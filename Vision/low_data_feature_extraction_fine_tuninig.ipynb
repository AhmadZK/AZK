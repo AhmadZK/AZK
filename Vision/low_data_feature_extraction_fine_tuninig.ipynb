{
 "cells": [
  {
   "cell_type": "code",
   "execution_count": 2,
   "outputs": [],
   "source": [
    "import tensorflow as tf\n",
    "import keras\n",
    "from keras import layers"
   ],
   "metadata": {
    "collapsed": false,
    "pycharm": {
     "name": "#%%\n"
    }
   }
  },
  {
   "cell_type": "code",
   "execution_count": 4,
   "outputs": [],
   "source": [
    "conv_base = tf.keras.applications.vgg16.VGG16(\n",
    "    include_top=False,\n",
    "    weights='imagenet',\n",
    "    input_shape=(180, 180, 3)\n",
    ")"
   ],
   "metadata": {
    "collapsed": false,
    "pycharm": {
     "name": "#%%\n"
    }
   }
  },
  {
   "cell_type": "code",
   "execution_count": 19,
   "outputs": [],
   "source": [
    "# conv_base.trainable = True\n",
    "# for layer in conv_base.layers[:-4]:\n",
    "#     layer.trainable = False\n",
    "conv_base.trainable = False"
   ],
   "metadata": {
    "collapsed": false,
    "pycharm": {
     "name": "#%%\n"
    }
   }
  },
  {
   "cell_type": "code",
   "execution_count": 25,
   "outputs": [
    {
     "name": "stdout",
     "output_type": "stream",
     "text": [
      "Found 2000 files belonging to 2 classes.\n",
      "Found 1000 files belonging to 2 classes.\n",
      "Found 2000 files belonging to 2 classes.\n"
     ]
    }
   ],
   "source": [
    "train_dir = 'cats_vs_dogs_small/train'\n",
    "validation_dir = 'cats_vs_dogs_small/validation'\n",
    "test_dir = 'cats_vs_dogs_small/test'\n",
    "train_dataset = tf.keras.utils.image_dataset_from_directory(\n",
    "    directory=train_dir,\n",
    "    image_size=(180, 180),\n",
    "    batch_size=32\n",
    ")\n",
    "validation_dataset = tf.keras.utils.image_dataset_from_directory(\n",
    "    directory=validation_dir,\n",
    "    image_size=(180, 180),\n",
    "    batch_size=32\n",
    ")\n",
    "test_dataset = tf.keras.utils.image_dataset_from_directory(\n",
    "    directory=test_dir,\n",
    "    image_size=(180, 180),\n",
    "    batch_size=32\n",
    ")"
   ],
   "metadata": {
    "collapsed": false,
    "pycharm": {
     "name": "#%%\n"
    }
   }
  },
  {
   "cell_type": "code",
   "execution_count": 29,
   "outputs": [
    {
     "name": "stdout",
     "output_type": "stream",
     "text": [
      "Epoch 1/30\n",
      "63/63 [==============================] - 10s 114ms/step - loss: 9.5464 - accuracy: 0.9340 - val_loss: 2.9958 - val_accuracy: 0.9690\n",
      "Epoch 2/30\n",
      "63/63 [==============================] - 5s 81ms/step - loss: 2.2262 - accuracy: 0.9785 - val_loss: 3.0110 - val_accuracy: 0.9740\n",
      "Epoch 3/30\n",
      "63/63 [==============================] - 5s 81ms/step - loss: 0.9583 - accuracy: 0.9875 - val_loss: 4.1670 - val_accuracy: 0.9710\n",
      "Epoch 4/30\n",
      "63/63 [==============================] - 5s 80ms/step - loss: 0.9694 - accuracy: 0.9885 - val_loss: 4.2427 - val_accuracy: 0.9710\n",
      "Epoch 5/30\n",
      "63/63 [==============================] - 5s 81ms/step - loss: 0.8709 - accuracy: 0.9895 - val_loss: 6.4758 - val_accuracy: 0.9610\n",
      "Epoch 6/30\n",
      "63/63 [==============================] - 5s 81ms/step - loss: 0.7545 - accuracy: 0.9930 - val_loss: 3.8342 - val_accuracy: 0.9740\n",
      "Epoch 7/30\n",
      "63/63 [==============================] - 5s 81ms/step - loss: 0.3683 - accuracy: 0.9970 - val_loss: 3.9633 - val_accuracy: 0.9690\n",
      "Epoch 8/30\n",
      "63/63 [==============================] - 5s 81ms/step - loss: 0.7857 - accuracy: 0.9920 - val_loss: 5.2104 - val_accuracy: 0.9660\n",
      "Epoch 9/30\n",
      "63/63 [==============================] - 5s 81ms/step - loss: 0.1471 - accuracy: 0.9985 - val_loss: 3.7982 - val_accuracy: 0.9690\n",
      "Epoch 10/30\n",
      "63/63 [==============================] - 5s 81ms/step - loss: 0.2247 - accuracy: 0.9980 - val_loss: 4.0475 - val_accuracy: 0.9660\n",
      "Epoch 11/30\n",
      "63/63 [==============================] - 5s 81ms/step - loss: 0.0440 - accuracy: 0.9985 - val_loss: 3.4764 - val_accuracy: 0.9730\n",
      "Epoch 12/30\n",
      "63/63 [==============================] - 5s 81ms/step - loss: 0.1243 - accuracy: 0.9985 - val_loss: 4.5976 - val_accuracy: 0.9690\n",
      "Epoch 13/30\n",
      "63/63 [==============================] - 5s 83ms/step - loss: 0.1723 - accuracy: 0.9975 - val_loss: 3.4486 - val_accuracy: 0.9740\n",
      "Epoch 14/30\n",
      "63/63 [==============================] - 5s 80ms/step - loss: 6.4314e-13 - accuracy: 1.0000 - val_loss: 3.4485 - val_accuracy: 0.9740\n",
      "Epoch 15/30\n",
      "63/63 [==============================] - 5s 80ms/step - loss: 0.0874 - accuracy: 0.9980 - val_loss: 2.9511 - val_accuracy: 0.9760\n",
      "Epoch 16/30\n",
      "63/63 [==============================] - 5s 80ms/step - loss: 1.4597e-13 - accuracy: 1.0000 - val_loss: 2.9512 - val_accuracy: 0.9760\n",
      "Epoch 17/30\n",
      "63/63 [==============================] - 5s 82ms/step - loss: 0.2448 - accuracy: 0.9970 - val_loss: 3.1818 - val_accuracy: 0.9720\n",
      "Epoch 18/30\n",
      "63/63 [==============================] - 5s 81ms/step - loss: 9.9368e-12 - accuracy: 1.0000 - val_loss: 3.1827 - val_accuracy: 0.9720\n",
      "Epoch 19/30\n",
      "63/63 [==============================] - 5s 83ms/step - loss: 0.3350 - accuracy: 0.9975 - val_loss: 3.8279 - val_accuracy: 0.9740\n",
      "Epoch 20/30\n",
      "63/63 [==============================] - 5s 81ms/step - loss: 0.0683 - accuracy: 0.9985 - val_loss: 3.6959 - val_accuracy: 0.9770\n",
      "Epoch 21/30\n",
      "63/63 [==============================] - 5s 81ms/step - loss: 3.3709e-23 - accuracy: 1.0000 - val_loss: 3.6959 - val_accuracy: 0.9770\n",
      "Epoch 22/30\n",
      "63/63 [==============================] - 5s 82ms/step - loss: 0.0687 - accuracy: 0.9990 - val_loss: 3.0732 - val_accuracy: 0.9800\n",
      "Epoch 23/30\n",
      "63/63 [==============================] - 5s 84ms/step - loss: 0.0441 - accuracy: 0.9990 - val_loss: 2.9090 - val_accuracy: 0.9740\n",
      "Epoch 24/30\n",
      "63/63 [==============================] - 5s 82ms/step - loss: 3.0715e-10 - accuracy: 1.0000 - val_loss: 2.8733 - val_accuracy: 0.9760\n",
      "Epoch 25/30\n",
      "63/63 [==============================] - 5s 82ms/step - loss: 5.4159e-09 - accuracy: 1.0000 - val_loss: 3.2540 - val_accuracy: 0.9710\n",
      "Epoch 26/30\n",
      "63/63 [==============================] - 5s 81ms/step - loss: 1.9960e-16 - accuracy: 1.0000 - val_loss: 3.2540 - val_accuracy: 0.9710\n",
      "Epoch 27/30\n",
      "63/63 [==============================] - 5s 81ms/step - loss: 6.6814e-18 - accuracy: 1.0000 - val_loss: 3.2540 - val_accuracy: 0.9710\n",
      "Epoch 28/30\n",
      "63/63 [==============================] - 5s 81ms/step - loss: 0.0249 - accuracy: 0.9995 - val_loss: 4.0421 - val_accuracy: 0.9750\n",
      "Epoch 29/30\n",
      "63/63 [==============================] - 5s 81ms/step - loss: 0.0203 - accuracy: 0.9990 - val_loss: 3.6100 - val_accuracy: 0.9730\n",
      "Epoch 30/30\n",
      "63/63 [==============================] - 5s 81ms/step - loss: 5.0267e-12 - accuracy: 1.0000 - val_loss: 3.6081 - val_accuracy: 0.9730\n"
     ]
    }
   ],
   "source": [
    "from keras.layers import Conv2D, MaxPooling2D, Flatten, Dense, Input, Rescaling, RandomFlip, RandomZoom, RandomRotation, RandomWidth, RandomHeight\n",
    "from keras.models import Sequential, Model\n",
    "data_augmentation = Sequential([\n",
    "    Rescaling(1./255),\n",
    "    RandomFlip('horizontal'),\n",
    "    RandomHeight(0.2),\n",
    "    RandomWidth(0.2),\n",
    "    RandomZoom(0.2),\n",
    "    RandomRotation(0.2)\n",
    "])\n",
    "inputs = Input(shape=(180, 180, 3))\n",
    "# x = data_augmentation(inputs)\n",
    "x = tf.keras.applications.vgg16.preprocess_input(inputs)\n",
    "x = conv_base(x)\n",
    "x = Flatten()(x)\n",
    "x = Dense(256)(x)\n",
    "x = layers.Dropout(0.5)(x)\n",
    "outputs = Dense(1, activation='sigmoid')(x)\n",
    "model = Model(inputs, outputs)\n",
    "\n",
    "model.compile(\n",
    "    loss=tf.keras.losses.BinaryCrossentropy(),\n",
    "    optimizer='rmsprop',\n",
    "    metrics=['accuracy']\n",
    ")\n",
    "\n",
    "history = model.fit(\n",
    "    train_dataset,\n",
    "    epochs=30,\n",
    "    validation_data=validation_dataset,\n",
    ")"
   ],
   "metadata": {
    "collapsed": false,
    "pycharm": {
     "name": "#%%\n"
    }
   }
  },
  {
   "cell_type": "code",
   "execution_count": 27,
   "outputs": [
    {
     "name": "stdout",
     "output_type": "stream",
     "text": [
      "Epoch 1/30\n",
      "63/63 [==============================] - 5s 54ms/step - loss: 61.5302 - accuracy: 0.5060 - val_loss: 0.6818 - val_accuracy: 0.5600\n",
      "Epoch 2/30\n",
      "63/63 [==============================] - 3s 43ms/step - loss: 0.8526 - accuracy: 0.5155 - val_loss: 0.7152 - val_accuracy: 0.5000\n",
      "Epoch 3/30\n",
      "63/63 [==============================] - 3s 43ms/step - loss: 0.9467 - accuracy: 0.4905 - val_loss: 0.7036 - val_accuracy: 0.5000\n",
      "Epoch 4/30\n",
      "63/63 [==============================] - 3s 42ms/step - loss: 0.8282 - accuracy: 0.5165 - val_loss: 0.6916 - val_accuracy: 0.5140\n",
      "Epoch 5/30\n",
      "63/63 [==============================] - 3s 42ms/step - loss: 0.7207 - accuracy: 0.5220 - val_loss: 0.6923 - val_accuracy: 0.5180\n",
      "Epoch 6/30\n",
      "63/63 [==============================] - 3s 42ms/step - loss: 0.7534 - accuracy: 0.5800 - val_loss: 0.6818 - val_accuracy: 0.5730\n",
      "Epoch 7/30\n",
      "63/63 [==============================] - 3s 42ms/step - loss: 0.6698 - accuracy: 0.6380 - val_loss: 0.7136 - val_accuracy: 0.5640\n",
      "Epoch 8/30\n",
      "63/63 [==============================] - 3s 42ms/step - loss: 0.6963 - accuracy: 0.6560 - val_loss: 0.7429 - val_accuracy: 0.6220\n",
      "Epoch 9/30\n",
      "63/63 [==============================] - 3s 42ms/step - loss: 0.6173 - accuracy: 0.6750 - val_loss: 0.6447 - val_accuracy: 0.6560\n",
      "Epoch 10/30\n",
      "63/63 [==============================] - 3s 42ms/step - loss: 0.5921 - accuracy: 0.6870 - val_loss: 0.6209 - val_accuracy: 0.6650\n",
      "Epoch 11/30\n",
      "63/63 [==============================] - 3s 42ms/step - loss: 0.5439 - accuracy: 0.7335 - val_loss: 0.7518 - val_accuracy: 0.6390\n",
      "Epoch 12/30\n",
      "63/63 [==============================] - 3s 42ms/step - loss: 0.5226 - accuracy: 0.7430 - val_loss: 0.7735 - val_accuracy: 0.6320\n",
      "Epoch 13/30\n",
      "63/63 [==============================] - 3s 42ms/step - loss: 0.4820 - accuracy: 0.7760 - val_loss: 0.8011 - val_accuracy: 0.6480\n",
      "Epoch 14/30\n",
      "63/63 [==============================] - 3s 42ms/step - loss: 0.4225 - accuracy: 0.8020 - val_loss: 0.7593 - val_accuracy: 0.6740\n",
      "Epoch 15/30\n",
      "63/63 [==============================] - 3s 43ms/step - loss: 0.4364 - accuracy: 0.8245 - val_loss: 1.2509 - val_accuracy: 0.6790\n",
      "Epoch 16/30\n",
      "63/63 [==============================] - 3s 42ms/step - loss: 0.3670 - accuracy: 0.8425 - val_loss: 0.9324 - val_accuracy: 0.7100\n",
      "Epoch 17/30\n",
      "63/63 [==============================] - 3s 43ms/step - loss: 0.3107 - accuracy: 0.8660 - val_loss: 1.3433 - val_accuracy: 0.6940\n",
      "Epoch 18/30\n",
      "63/63 [==============================] - 3s 42ms/step - loss: 0.2758 - accuracy: 0.8895 - val_loss: 1.0795 - val_accuracy: 0.7170\n",
      "Epoch 19/30\n",
      "63/63 [==============================] - 3s 42ms/step - loss: 0.3163 - accuracy: 0.8730 - val_loss: 1.4170 - val_accuracy: 0.6990\n",
      "Epoch 20/30\n",
      "63/63 [==============================] - 3s 42ms/step - loss: 0.2257 - accuracy: 0.9055 - val_loss: 1.2965 - val_accuracy: 0.6650\n",
      "Epoch 21/30\n",
      "63/63 [==============================] - 3s 42ms/step - loss: 0.2375 - accuracy: 0.9025 - val_loss: 1.5925 - val_accuracy: 0.6500\n",
      "Epoch 22/30\n",
      "63/63 [==============================] - 3s 42ms/step - loss: 0.2163 - accuracy: 0.9175 - val_loss: 1.2148 - val_accuracy: 0.6920\n",
      "Epoch 23/30\n",
      "63/63 [==============================] - 3s 43ms/step - loss: 0.1971 - accuracy: 0.9420 - val_loss: 1.8117 - val_accuracy: 0.6810\n",
      "Epoch 24/30\n",
      "63/63 [==============================] - 3s 42ms/step - loss: 0.2478 - accuracy: 0.9245 - val_loss: 1.1397 - val_accuracy: 0.7000\n",
      "Epoch 25/30\n",
      "63/63 [==============================] - 3s 42ms/step - loss: 0.1932 - accuracy: 0.9355 - val_loss: 1.3474 - val_accuracy: 0.7170\n",
      "Epoch 26/30\n",
      "63/63 [==============================] - 3s 42ms/step - loss: 0.1583 - accuracy: 0.9460 - val_loss: 1.4752 - val_accuracy: 0.7260\n",
      "Epoch 27/30\n",
      "63/63 [==============================] - 3s 42ms/step - loss: 0.1468 - accuracy: 0.9560 - val_loss: 2.0224 - val_accuracy: 0.6630\n",
      "Epoch 28/30\n",
      "63/63 [==============================] - 3s 42ms/step - loss: 0.1969 - accuracy: 0.9430 - val_loss: 1.8089 - val_accuracy: 0.7020\n",
      "Epoch 29/30\n",
      "63/63 [==============================] - 3s 43ms/step - loss: 0.1373 - accuracy: 0.9625 - val_loss: 2.1854 - val_accuracy: 0.6860\n",
      "Epoch 30/30\n",
      "63/63 [==============================] - 3s 42ms/step - loss: 0.1969 - accuracy: 0.9440 - val_loss: 1.6012 - val_accuracy: 0.6930\n"
     ]
    }
   ],
   "source": [
    "inputs = Input(shape=(180, 180, 3))\n",
    "x = Conv2D(filters=32, kernel_size=3, activation='relu')(inputs)\n",
    "x = MaxPooling2D(2)(x)\n",
    "x = Conv2D(filters=64, kernel_size=3, activation='relu')(x)\n",
    "x = MaxPooling2D(2)(x)\n",
    "x = Conv2D(filters=128, kernel_size=3, activation='relu')(x)\n",
    "x = MaxPooling2D(2)(x)\n",
    "x = Conv2D(filters=256, kernel_size=3, activation='relu')(x)\n",
    "x = MaxPooling2D(2)(x)\n",
    "x = Conv2D(filters=512, kernel_size=3, activation='relu')(x)\n",
    "x = MaxPooling2D(2)(x)\n",
    "x = Conv2D(filters=512, kernel_size=3, activation='relu')(x)\n",
    "x = Flatten()(x)\n",
    "outputs = Dense(1, activation='sigmoid')(x)\n",
    "model_2 = Model(inputs, outputs)\n",
    "\n",
    "model_2.compile(\n",
    "    loss=tf.keras.losses.BinaryCrossentropy(),\n",
    "    optimizer='rmsprop',\n",
    "    metrics=['accuracy']\n",
    ")\n",
    "\n",
    "history_2 = model_2.fit(\n",
    "    train_dataset,\n",
    "    epochs=30,\n",
    "    validation_data=validation_dataset,\n",
    ")"
   ],
   "metadata": {
    "collapsed": false,
    "pycharm": {
     "name": "#%%\n"
    }
   }
  },
  {
   "cell_type": "code",
   "execution_count": 30,
   "outputs": [
    {
     "name": "stdout",
     "output_type": "stream",
     "text": [
      "Epoch 1/30\n",
      "63/63 [==============================] - 4s 44ms/step - loss: 39.6849 - accuracy: 0.4985 - val_loss: 0.7370 - val_accuracy: 0.4620\n",
      "Epoch 2/30\n",
      "63/63 [==============================] - 3s 43ms/step - loss: 0.8257 - accuracy: 0.4865 - val_loss: 0.6913 - val_accuracy: 0.5680\n",
      "Epoch 3/30\n",
      "63/63 [==============================] - 3s 42ms/step - loss: 0.8239 - accuracy: 0.5460 - val_loss: 0.6892 - val_accuracy: 0.5560\n",
      "Epoch 4/30\n",
      "63/63 [==============================] - 3s 42ms/step - loss: 0.7257 - accuracy: 0.5360 - val_loss: 0.6940 - val_accuracy: 0.5000\n",
      "Epoch 5/30\n",
      "63/63 [==============================] - 3s 42ms/step - loss: 0.7466 - accuracy: 0.5460 - val_loss: 0.7261 - val_accuracy: 0.4980\n",
      "Epoch 6/30\n",
      "63/63 [==============================] - 3s 43ms/step - loss: 0.6897 - accuracy: 0.5840 - val_loss: 0.6757 - val_accuracy: 0.5600\n",
      "Epoch 7/30\n",
      "63/63 [==============================] - 3s 42ms/step - loss: 0.9620 - accuracy: 0.6150 - val_loss: 0.6755 - val_accuracy: 0.5770\n",
      "Epoch 8/30\n",
      "63/63 [==============================] - 3s 42ms/step - loss: 0.6662 - accuracy: 0.6245 - val_loss: 0.7220 - val_accuracy: 0.6290\n",
      "Epoch 9/30\n",
      "63/63 [==============================] - 3s 43ms/step - loss: 0.6442 - accuracy: 0.6650 - val_loss: 0.6743 - val_accuracy: 0.6370\n",
      "Epoch 10/30\n",
      "63/63 [==============================] - 3s 42ms/step - loss: 0.6280 - accuracy: 0.6810 - val_loss: 0.6573 - val_accuracy: 0.6470\n",
      "Epoch 11/30\n",
      "63/63 [==============================] - 3s 42ms/step - loss: 0.5901 - accuracy: 0.7160 - val_loss: 1.0409 - val_accuracy: 0.6380\n",
      "Epoch 12/30\n",
      "63/63 [==============================] - 3s 42ms/step - loss: 0.5189 - accuracy: 0.7435 - val_loss: 1.2253 - val_accuracy: 0.6100\n",
      "Epoch 13/30\n",
      "63/63 [==============================] - 3s 43ms/step - loss: 0.5605 - accuracy: 0.7670 - val_loss: 0.7430 - val_accuracy: 0.6540\n",
      "Epoch 14/30\n",
      "63/63 [==============================] - 3s 42ms/step - loss: 0.4841 - accuracy: 0.7715 - val_loss: 1.1042 - val_accuracy: 0.6040\n",
      "Epoch 15/30\n",
      "63/63 [==============================] - 3s 42ms/step - loss: 0.4660 - accuracy: 0.8075 - val_loss: 0.7031 - val_accuracy: 0.6700\n",
      "Epoch 16/30\n",
      "63/63 [==============================] - 3s 43ms/step - loss: 0.4084 - accuracy: 0.8285 - val_loss: 1.0505 - val_accuracy: 0.6300\n",
      "Epoch 17/30\n",
      "63/63 [==============================] - 3s 43ms/step - loss: 0.3180 - accuracy: 0.8590 - val_loss: 1.0975 - val_accuracy: 0.7000\n",
      "Epoch 18/30\n",
      "63/63 [==============================] - 3s 42ms/step - loss: 0.3405 - accuracy: 0.8590 - val_loss: 1.0489 - val_accuracy: 0.6930\n",
      "Epoch 19/30\n",
      "63/63 [==============================] - 3s 42ms/step - loss: 0.2644 - accuracy: 0.8875 - val_loss: 2.2144 - val_accuracy: 0.7070\n",
      "Epoch 20/30\n",
      "63/63 [==============================] - 3s 42ms/step - loss: 0.2896 - accuracy: 0.8875 - val_loss: 1.2525 - val_accuracy: 0.6970\n",
      "Epoch 21/30\n",
      "63/63 [==============================] - 3s 43ms/step - loss: 0.2563 - accuracy: 0.9135 - val_loss: 1.1769 - val_accuracy: 0.6860\n",
      "Epoch 22/30\n",
      "63/63 [==============================] - 3s 42ms/step - loss: 0.2935 - accuracy: 0.8995 - val_loss: 0.9807 - val_accuracy: 0.6900\n",
      "Epoch 23/30\n",
      "63/63 [==============================] - 3s 42ms/step - loss: 0.2120 - accuracy: 0.9205 - val_loss: 1.7687 - val_accuracy: 0.6960\n",
      "Epoch 24/30\n",
      "63/63 [==============================] - 3s 43ms/step - loss: 0.2064 - accuracy: 0.9280 - val_loss: 1.7061 - val_accuracy: 0.7340\n",
      "Epoch 25/30\n",
      "63/63 [==============================] - 3s 42ms/step - loss: 0.2515 - accuracy: 0.9230 - val_loss: 2.7965 - val_accuracy: 0.6540\n",
      "Epoch 26/30\n",
      "63/63 [==============================] - 3s 42ms/step - loss: 0.2372 - accuracy: 0.9245 - val_loss: 1.5640 - val_accuracy: 0.6990\n",
      "Epoch 27/30\n",
      "63/63 [==============================] - 3s 42ms/step - loss: 0.1506 - accuracy: 0.9465 - val_loss: 2.3768 - val_accuracy: 0.6810\n",
      "Epoch 28/30\n",
      "63/63 [==============================] - 3s 43ms/step - loss: 0.2066 - accuracy: 0.9345 - val_loss: 2.2036 - val_accuracy: 0.6450\n",
      "Epoch 29/30\n",
      "63/63 [==============================] - 3s 42ms/step - loss: 0.1965 - accuracy: 0.9515 - val_loss: 2.1288 - val_accuracy: 0.6690\n",
      "Epoch 30/30\n",
      "63/63 [==============================] - 3s 42ms/step - loss: 0.1878 - accuracy: 0.9470 - val_loss: 1.8899 - val_accuracy: 0.7030\n"
     ]
    }
   ],
   "source": [
    "data_augmentation = Sequential([\n",
    "    RandomFlip('horizontal'),\n",
    "    RandomRotation(0.2),\n",
    "    RandomZoom(0.1)\n",
    "])\n",
    "\n",
    "inputs = Input(shape=(180, 180, 3))\n",
    "x = data_augmentation(inputs)\n",
    "x = Rescaling(1./255)(x)\n",
    "x = Conv2D(filters=32, kernel_size=3, activation='relu')(inputs)\n",
    "x = MaxPooling2D(2)(x)\n",
    "x = Conv2D(filters=64, kernel_size=3, activation='relu')(x)\n",
    "x = MaxPooling2D(2)(x)\n",
    "x = Conv2D(filters=128, kernel_size=3, activation='relu')(x)\n",
    "x = MaxPooling2D(2)(x)\n",
    "x = Conv2D(filters=256, kernel_size=3, activation='relu')(x)\n",
    "x = MaxPooling2D(2)(x)\n",
    "x = Conv2D(filters=512, kernel_size=3, activation='relu')(x)\n",
    "x = MaxPooling2D(2)(x)\n",
    "x = Conv2D(filters=512, kernel_size=3, activation='relu')(x)\n",
    "x = Flatten()(x)\n",
    "outputs = Dense(1, activation='sigmoid')(x)\n",
    "model_3 = Model(inputs, outputs)\n",
    "\n",
    "model_3.compile(\n",
    "    loss=tf.keras.losses.BinaryCrossentropy(),\n",
    "    optimizer='rmsprop',\n",
    "    metrics=['accuracy']\n",
    ")\n",
    "\n",
    "history_3 = model_3.fit(\n",
    "    train_dataset,\n",
    "    epochs=30,\n",
    "    validation_data=validation_dataset,\n",
    ")"
   ],
   "metadata": {
    "collapsed": false,
    "pycharm": {
     "name": "#%%\n"
    }
   }
  },
  {
   "cell_type": "code",
   "execution_count": 31,
   "outputs": [
    {
     "name": "stdout",
     "output_type": "stream",
     "text": [
      "Model: \"model_12\"\n",
      "_________________________________________________________________\n",
      " Layer (type)                Output Shape              Param #   \n",
      "=================================================================\n",
      " input_15 (InputLayer)       [(None, 180, 180, 3)]     0         \n",
      "                                                                 \n",
      " tf.__operators__.getitem_6   (None, 180, 180, 3)      0         \n",
      " (SlicingOpLambda)                                               \n",
      "                                                                 \n",
      " tf.nn.bias_add_6 (TFOpLambd  (None, 180, 180, 3)      0         \n",
      " a)                                                              \n",
      "                                                                 \n",
      " vgg16 (Functional)          (None, 5, 5, 512)         14714688  \n",
      "                                                                 \n",
      " flatten_10 (Flatten)        (None, 12800)             0         \n",
      "                                                                 \n",
      " dense_23 (Dense)            (None, 256)               3277056   \n",
      "                                                                 \n",
      " dropout_11 (Dropout)        (None, 256)               0         \n",
      "                                                                 \n",
      " dense_24 (Dense)            (None, 1)                 257       \n",
      "                                                                 \n",
      "=================================================================\n",
      "Total params: 17,992,001\n",
      "Trainable params: 3,277,313\n",
      "Non-trainable params: 14,714,688\n",
      "_________________________________________________________________\n"
     ]
    }
   ],
   "source": [
    "model.summary()"
   ],
   "metadata": {
    "collapsed": false,
    "pycharm": {
     "name": "#%%\n"
    }
   }
  },
  {
   "cell_type": "code",
   "execution_count": 32,
   "outputs": [
    {
     "name": "stdout",
     "output_type": "stream",
     "text": [
      "Model: \"model_11\"\n",
      "_________________________________________________________________\n",
      " Layer (type)                Output Shape              Param #   \n",
      "=================================================================\n",
      " input_13 (InputLayer)       [(None, 180, 180, 3)]     0         \n",
      "                                                                 \n",
      " conv2d (Conv2D)             (None, 178, 178, 32)      896       \n",
      "                                                                 \n",
      " max_pooling2d (MaxPooling2D  (None, 89, 89, 32)       0         \n",
      " )                                                               \n",
      "                                                                 \n",
      " conv2d_1 (Conv2D)           (None, 87, 87, 64)        18496     \n",
      "                                                                 \n",
      " max_pooling2d_1 (MaxPooling  (None, 43, 43, 64)       0         \n",
      " 2D)                                                             \n",
      "                                                                 \n",
      " conv2d_2 (Conv2D)           (None, 41, 41, 128)       73856     \n",
      "                                                                 \n",
      " max_pooling2d_2 (MaxPooling  (None, 20, 20, 128)      0         \n",
      " 2D)                                                             \n",
      "                                                                 \n",
      " conv2d_3 (Conv2D)           (None, 18, 18, 256)       295168    \n",
      "                                                                 \n",
      " max_pooling2d_3 (MaxPooling  (None, 9, 9, 256)        0         \n",
      " 2D)                                                             \n",
      "                                                                 \n",
      " conv2d_4 (Conv2D)           (None, 7, 7, 512)         1180160   \n",
      "                                                                 \n",
      " max_pooling2d_4 (MaxPooling  (None, 3, 3, 512)        0         \n",
      " 2D)                                                             \n",
      "                                                                 \n",
      " conv2d_5 (Conv2D)           (None, 1, 1, 512)         2359808   \n",
      "                                                                 \n",
      " flatten_9 (Flatten)         (None, 512)               0         \n",
      "                                                                 \n",
      " dense_22 (Dense)            (None, 1)                 513       \n",
      "                                                                 \n",
      "=================================================================\n",
      "Total params: 3,928,897\n",
      "Trainable params: 3,928,897\n",
      "Non-trainable params: 0\n",
      "_________________________________________________________________\n"
     ]
    }
   ],
   "source": [
    "model_2.summary()"
   ],
   "metadata": {
    "collapsed": false,
    "pycharm": {
     "name": "#%%\n"
    }
   }
  },
  {
   "cell_type": "code",
   "execution_count": 33,
   "outputs": [
    {
     "name": "stdout",
     "output_type": "stream",
     "text": [
      "Model: \"model_13\"\n",
      "_________________________________________________________________\n",
      " Layer (type)                Output Shape              Param #   \n",
      "=================================================================\n",
      " input_16 (InputLayer)       [(None, 180, 180, 3)]     0         \n",
      "                                                                 \n",
      " conv2d_7 (Conv2D)           (None, 178, 178, 32)      896       \n",
      "                                                                 \n",
      " max_pooling2d_5 (MaxPooling  (None, 89, 89, 32)       0         \n",
      " 2D)                                                             \n",
      "                                                                 \n",
      " conv2d_8 (Conv2D)           (None, 87, 87, 64)        18496     \n",
      "                                                                 \n",
      " max_pooling2d_6 (MaxPooling  (None, 43, 43, 64)       0         \n",
      " 2D)                                                             \n",
      "                                                                 \n",
      " conv2d_9 (Conv2D)           (None, 41, 41, 128)       73856     \n",
      "                                                                 \n",
      " max_pooling2d_7 (MaxPooling  (None, 20, 20, 128)      0         \n",
      " 2D)                                                             \n",
      "                                                                 \n",
      " conv2d_10 (Conv2D)          (None, 18, 18, 256)       295168    \n",
      "                                                                 \n",
      " max_pooling2d_8 (MaxPooling  (None, 9, 9, 256)        0         \n",
      " 2D)                                                             \n",
      "                                                                 \n",
      " conv2d_11 (Conv2D)          (None, 7, 7, 512)         1180160   \n",
      "                                                                 \n",
      " max_pooling2d_9 (MaxPooling  (None, 3, 3, 512)        0         \n",
      " 2D)                                                             \n",
      "                                                                 \n",
      " conv2d_12 (Conv2D)          (None, 1, 1, 512)         2359808   \n",
      "                                                                 \n",
      " flatten_11 (Flatten)        (None, 512)               0         \n",
      "                                                                 \n",
      " dense_25 (Dense)            (None, 1)                 513       \n",
      "                                                                 \n",
      "=================================================================\n",
      "Total params: 3,928,897\n",
      "Trainable params: 3,928,897\n",
      "Non-trainable params: 0\n",
      "_________________________________________________________________\n"
     ]
    }
   ],
   "source": [
    "model_3.summary()"
   ],
   "metadata": {
    "collapsed": false,
    "pycharm": {
     "name": "#%%\n"
    }
   }
  },
  {
   "cell_type": "code",
   "execution_count": 42,
   "outputs": [
    {
     "name": "stdout",
     "output_type": "stream",
     "text": [
      "Epoch 1/3\n",
      "WARNING:tensorflow:Using a while_loop for converting RngReadAndSkip cause there is no registered converter for this op.\n",
      "WARNING:tensorflow:Using a while_loop for converting Bitcast cause there is no registered converter for this op.\n",
      "WARNING:tensorflow:Using a while_loop for converting Bitcast cause there is no registered converter for this op.\n",
      "WARNING:tensorflow:Using a while_loop for converting StatelessRandomUniformV2 cause there is no registered converter for this op.\n",
      "WARNING:tensorflow:Using a while_loop for converting ImageProjectiveTransformV3 cause there is no registered converter for this op.\n",
      "WARNING:tensorflow:Using a while_loop for converting RngReadAndSkip cause there is no registered converter for this op.\n",
      "WARNING:tensorflow:Using a while_loop for converting Bitcast cause there is no registered converter for this op.\n",
      "WARNING:tensorflow:Using a while_loop for converting Bitcast cause there is no registered converter for this op.\n",
      "WARNING:tensorflow:Using a while_loop for converting StatelessRandomUniformV2 cause there is no registered converter for this op.\n",
      "WARNING:tensorflow:Using a while_loop for converting ImageProjectiveTransformV3 cause there is no registered converter for this op.\n",
      "WARNING:tensorflow:Using a while_loop for converting RngReadAndSkip cause there is no registered converter for this op.\n",
      "WARNING:tensorflow:Using a while_loop for converting Bitcast cause there is no registered converter for this op.\n",
      "WARNING:tensorflow:Using a while_loop for converting Bitcast cause there is no registered converter for this op.\n",
      "WARNING:tensorflow:Using a while_loop for converting StatelessRandomUniformV2 cause there is no registered converter for this op.\n",
      "WARNING:tensorflow:Using a while_loop for converting ImageProjectiveTransformV3 cause there is no registered converter for this op.\n",
      "WARNING:tensorflow:Using a while_loop for converting RngReadAndSkip cause there is no registered converter for this op.\n",
      "WARNING:tensorflow:Using a while_loop for converting Bitcast cause there is no registered converter for this op.\n",
      "WARNING:tensorflow:Using a while_loop for converting Bitcast cause there is no registered converter for this op.\n",
      "WARNING:tensorflow:Using a while_loop for converting StatelessRandomUniformV2 cause there is no registered converter for this op.\n",
      "WARNING:tensorflow:Using a while_loop for converting ImageProjectiveTransformV3 cause there is no registered converter for this op.\n",
      "63/63 [==============================] - 20s 278ms/step - loss: 0.6932 - accuracy: 0.4930 - val_loss: 0.6931 - val_accuracy: 0.5000\n",
      "Epoch 2/3\n",
      "63/63 [==============================] - 17s 278ms/step - loss: 0.6932 - accuracy: 0.4770 - val_loss: 0.6931 - val_accuracy: 0.5000\n",
      "Epoch 3/3\n",
      "63/63 [==============================] - 17s 277ms/step - loss: 0.6932 - accuracy: 0.5000 - val_loss: 0.6931 - val_accuracy: 0.5000\n"
     ]
    }
   ],
   "source": [
    "tf.random.set_seed(42)\n",
    "conv_base.trainable = True\n",
    "for layer in conv_base.layers[:-4]:\n",
    "    layer.trainable = False\n",
    "\n",
    "inputs = Input(shape=(180, 180, 3))\n",
    "x = data_augmentation(inputs)\n",
    "x = Rescaling(1./255)(x)\n",
    "x = conv_base(x)\n",
    "x = Flatten()(x)\n",
    "x = Dense(256, activation='relu')(x)\n",
    "x = layers.Dropout(0.5)(x)\n",
    "outputs = Dense(1, activation='sigmoid')(x)\n",
    "model_4 = Model(inputs, outputs)\n",
    "\n",
    "\n",
    "model_4.compile(\n",
    "    loss='binary_crossentropy',\n",
    "    optimizer='sgd',\n",
    "    metrics=['accuracy']\n",
    ")\n",
    "\n",
    "history_4 = model_4.fit(\n",
    "    train_dataset,\n",
    "    epochs=3,\n",
    "    validation_data=test_dataset\n",
    ")"
   ],
   "metadata": {
    "collapsed": false,
    "pycharm": {
     "name": "#%%\n"
    }
   }
  },
  {
   "cell_type": "code",
   "execution_count": 43,
   "outputs": [
    {
     "name": "stdout",
     "output_type": "stream",
     "text": [
      "Model: \"model_22\"\n",
      "_________________________________________________________________\n",
      " Layer (type)                Output Shape              Param #   \n",
      "=================================================================\n",
      " input_25 (InputLayer)       [(None, 180, 180, 3)]     0         \n",
      "                                                                 \n",
      " sequential_12 (Sequential)  (None, 180, 180, 3)       0         \n",
      "                                                                 \n",
      " rescaling_13 (Rescaling)    (None, 180, 180, 3)       0         \n",
      "                                                                 \n",
      " vgg16 (Functional)          (None, 5, 5, 512)         14714688  \n",
      "                                                                 \n",
      " flatten_20 (Flatten)        (None, 12800)             0         \n",
      "                                                                 \n",
      " dense_40 (Dense)            (None, 256)               3277056   \n",
      "                                                                 \n",
      " dropout_18 (Dropout)        (None, 256)               0         \n",
      "                                                                 \n",
      " dense_41 (Dense)            (None, 1)                 257       \n",
      "                                                                 \n",
      "=================================================================\n",
      "Total params: 17,992,001\n",
      "Trainable params: 10,356,737\n",
      "Non-trainable params: 7,635,264\n",
      "_________________________________________________________________\n"
     ]
    }
   ],
   "source": [
    "model_4.summary()"
   ],
   "metadata": {
    "collapsed": false,
    "pycharm": {
     "name": "#%%\n"
    }
   }
  },
  {
   "cell_type": "code",
   "execution_count": null,
   "outputs": [],
   "source": [],
   "metadata": {
    "collapsed": false,
    "pycharm": {
     "name": "#%%\n"
    }
   }
  }
 ],
 "metadata": {
  "kernelspec": {
   "display_name": "Python 3",
   "language": "python",
   "name": "python3"
  },
  "language_info": {
   "codemirror_mode": {
    "name": "ipython",
    "version": 2
   },
   "file_extension": ".py",
   "mimetype": "text/x-python",
   "name": "python",
   "nbconvert_exporter": "python",
   "pygments_lexer": "ipython2",
   "version": "2.7.6"
  }
 },
 "nbformat": 4,
 "nbformat_minor": 0
}