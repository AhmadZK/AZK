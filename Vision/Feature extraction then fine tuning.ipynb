{
 "cells": [
  {
   "cell_type": "code",
   "execution_count": 44,
   "outputs": [],
   "source": [
    "import tensorflow as tf\n",
    "from keras import layers\n",
    "import keras"
   ],
   "metadata": {
    "collapsed": false,
    "pycharm": {
     "name": "#%%\n"
    }
   }
  },
  {
   "cell_type": "code",
   "execution_count": 45,
   "outputs": [
    {
     "name": "stdout",
     "output_type": "stream",
     "text": [
      "Found 2000 files belonging to 2 classes.\n",
      "Found 1000 files belonging to 2 classes.\n",
      "Found 2000 files belonging to 2 classes.\n"
     ]
    }
   ],
   "source": [
    "train_dir = 'cats_vs_dogs_small/train'\n",
    "validation_dir = 'cats_vs_dogs_small/validation'\n",
    "test_dir = 'cats_vs_dogs_small/test'\n",
    "train_dataset = tf.keras.utils.image_dataset_from_directory(\n",
    "    directory=train_dir,\n",
    "    batch_size=32,\n",
    "    image_size=(180, 180)\n",
    ")\n",
    "validation_dataset = tf.keras.utils.image_dataset_from_directory(\n",
    "    directory=validation_dir,\n",
    "    batch_size=32,\n",
    "    image_size=(180, 180)\n",
    ")\n",
    "test_dataset = tf.keras.utils.image_dataset_from_directory(\n",
    "    directory=test_dir,\n",
    "    batch_size=32,\n",
    "    image_size=(180, 180)\n",
    ")"
   ],
   "metadata": {
    "collapsed": false,
    "pycharm": {
     "name": "#%%\n"
    }
   }
  },
  {
   "cell_type": "code",
   "execution_count": 46,
   "outputs": [],
   "source": [
    "conv_base = tf.keras.applications.vgg16.VGG16(\n",
    "    include_top=False,\n",
    "    weights='imagenet',\n",
    "    input_shape=(180, 180, 3)\n",
    ")"
   ],
   "metadata": {
    "collapsed": false,
    "pycharm": {
     "name": "#%%\n"
    }
   }
  },
  {
   "cell_type": "code",
   "execution_count": 48,
   "outputs": [
    {
     "name": "stdout",
     "output_type": "stream",
     "text": [
      "Epoch 1/30\n",
      "63/63 [==============================] - 23s 263ms/step - loss: 4.4457 - accuracy: 0.5155 - val_loss: 0.7098 - val_accuracy: 0.5090\n",
      "Epoch 2/30\n",
      "63/63 [==============================] - 14s 217ms/step - loss: 0.6866 - accuracy: 0.5600 - val_loss: 0.6917 - val_accuracy: 0.5430\n",
      "Epoch 3/30\n",
      "63/63 [==============================] - 14s 219ms/step - loss: 0.6828 - accuracy: 0.5755 - val_loss: 0.6609 - val_accuracy: 0.6120\n",
      "Epoch 4/30\n",
      "63/63 [==============================] - 14s 217ms/step - loss: 0.6573 - accuracy: 0.6105 - val_loss: 0.6503 - val_accuracy: 0.6210\n",
      "Epoch 5/30\n",
      "63/63 [==============================] - 14s 217ms/step - loss: 0.6867 - accuracy: 0.5560 - val_loss: 0.6808 - val_accuracy: 0.5590\n",
      "Epoch 6/30\n",
      "63/63 [==============================] - 14s 217ms/step - loss: 0.6774 - accuracy: 0.5720 - val_loss: 0.6573 - val_accuracy: 0.6070\n",
      "Epoch 7/30\n",
      "63/63 [==============================] - 14s 218ms/step - loss: 0.6926 - accuracy: 0.5085 - val_loss: 0.6838 - val_accuracy: 0.5100\n",
      "Epoch 8/30\n",
      "63/63 [==============================] - 14s 217ms/step - loss: 0.6817 - accuracy: 0.5575 - val_loss: 0.6594 - val_accuracy: 0.6260\n",
      "Epoch 9/30\n",
      "63/63 [==============================] - 14s 217ms/step - loss: 0.6583 - accuracy: 0.6125 - val_loss: 0.6379 - val_accuracy: 0.6380\n",
      "Epoch 10/30\n",
      "63/63 [==============================] - 14s 218ms/step - loss: 0.6186 - accuracy: 0.6505 - val_loss: 0.6220 - val_accuracy: 0.6690\n",
      "Epoch 11/30\n",
      "63/63 [==============================] - 14s 220ms/step - loss: 0.5959 - accuracy: 0.6825 - val_loss: 0.6092 - val_accuracy: 0.6910\n",
      "Epoch 12/30\n",
      "63/63 [==============================] - 14s 218ms/step - loss: 0.5903 - accuracy: 0.6915 - val_loss: 0.6014 - val_accuracy: 0.6880\n",
      "Epoch 13/30\n",
      "63/63 [==============================] - 16s 252ms/step - loss: 0.5697 - accuracy: 0.7110 - val_loss: 0.5649 - val_accuracy: 0.7130\n",
      "Epoch 14/30\n",
      "63/63 [==============================] - 14s 218ms/step - loss: 0.5551 - accuracy: 0.7230 - val_loss: 0.6248 - val_accuracy: 0.6750\n",
      "Epoch 15/30\n",
      "63/63 [==============================] - 14s 219ms/step - loss: 0.5855 - accuracy: 0.6995 - val_loss: 0.5936 - val_accuracy: 0.6860\n",
      "Epoch 16/30\n",
      "63/63 [==============================] - 14s 217ms/step - loss: 0.5645 - accuracy: 0.7095 - val_loss: 0.5972 - val_accuracy: 0.6830\n",
      "Epoch 17/30\n",
      "63/63 [==============================] - 14s 219ms/step - loss: 0.5591 - accuracy: 0.7090 - val_loss: 0.5739 - val_accuracy: 0.7150\n",
      "Epoch 18/30\n",
      "63/63 [==============================] - 14s 220ms/step - loss: 0.5523 - accuracy: 0.7190 - val_loss: 0.5798 - val_accuracy: 0.7050\n",
      "Epoch 19/30\n",
      "63/63 [==============================] - 14s 220ms/step - loss: 0.5381 - accuracy: 0.7220 - val_loss: 0.5509 - val_accuracy: 0.7360\n",
      "Epoch 20/30\n",
      "63/63 [==============================] - 14s 218ms/step - loss: 0.5090 - accuracy: 0.7520 - val_loss: 0.5761 - val_accuracy: 0.7310\n",
      "Epoch 21/30\n",
      "63/63 [==============================] - 14s 217ms/step - loss: 0.5186 - accuracy: 0.7345 - val_loss: 0.5603 - val_accuracy: 0.7510\n",
      "Epoch 22/30\n",
      "63/63 [==============================] - 14s 222ms/step - loss: 0.5000 - accuracy: 0.7610 - val_loss: 0.5549 - val_accuracy: 0.7390\n",
      "Epoch 23/30\n",
      "63/63 [==============================] - 14s 219ms/step - loss: 0.4679 - accuracy: 0.7795 - val_loss: 0.5628 - val_accuracy: 0.7380\n",
      "Epoch 24/30\n",
      "63/63 [==============================] - 14s 218ms/step - loss: 0.4508 - accuracy: 0.7950 - val_loss: 0.5391 - val_accuracy: 0.7440\n",
      "Epoch 25/30\n",
      "63/63 [==============================] - 14s 219ms/step - loss: 0.4389 - accuracy: 0.8085 - val_loss: 0.6327 - val_accuracy: 0.7130\n",
      "Epoch 26/30\n",
      "63/63 [==============================] - 14s 220ms/step - loss: 0.4341 - accuracy: 0.8025 - val_loss: 0.5462 - val_accuracy: 0.7710\n",
      "Epoch 27/30\n",
      "63/63 [==============================] - 14s 218ms/step - loss: 0.3888 - accuracy: 0.8285 - val_loss: 0.5307 - val_accuracy: 0.7640\n",
      "Epoch 28/30\n",
      "63/63 [==============================] - 14s 222ms/step - loss: 0.3560 - accuracy: 0.8390 - val_loss: 0.5071 - val_accuracy: 0.7700\n",
      "Epoch 29/30\n",
      "63/63 [==============================] - 14s 217ms/step - loss: 0.3978 - accuracy: 0.8230 - val_loss: 0.4906 - val_accuracy: 0.7850\n",
      "Epoch 30/30\n",
      "63/63 [==============================] - 14s 217ms/step - loss: 0.3460 - accuracy: 0.8470 - val_loss: 0.5010 - val_accuracy: 0.7920\n"
     ]
    }
   ],
   "source": [
    "from keras.layers import Input, Dense, Flatten\n",
    "inputs = Input(shape=(180, 180, 3))\n",
    "x = conv_base(inputs)\n",
    "x = Flatten()(x)\n",
    "outputs = Dense(1, activation='sigmoid')(x)\n",
    "model = tf.keras.models.Model(inputs, outputs)\n",
    "\n",
    "model.compile(\n",
    "    loss='binary_crossentropy',\n",
    "    optimizer='adam',\n",
    "    metrics=['accuracy']\n",
    ")\n",
    "\n",
    "history = model.fit(\n",
    "    train_dataset,\n",
    "    epochs=30,\n",
    "    validation_data=validation_dataset\n",
    ")"
   ],
   "metadata": {
    "collapsed": false,
    "pycharm": {
     "name": "#%%\n"
    }
   }
  },
  {
   "cell_type": "code",
   "execution_count": null,
   "outputs": [
    {
     "name": "stdout",
     "output_type": "stream",
     "text": [
      "Epoch 1/30\n",
      "63/63 [==============================] - 7s 92ms/step - loss: 0.2770 - accuracy: 0.8865 - val_loss: 0.5611 - val_accuracy: 0.8000\n",
      "Epoch 2/30\n",
      "63/63 [==============================] - 6s 89ms/step - loss: 0.2441 - accuracy: 0.9020 - val_loss: 0.6279 - val_accuracy: 0.7830\n",
      "Epoch 3/30\n",
      "63/63 [==============================] - 6s 90ms/step - loss: 0.2254 - accuracy: 0.9105 - val_loss: 0.6399 - val_accuracy: 0.7840\n",
      "Epoch 4/30\n",
      "63/63 [==============================] - 6s 90ms/step - loss: 0.1915 - accuracy: 0.9210 - val_loss: 0.7195 - val_accuracy: 0.7820\n",
      "Epoch 5/30\n",
      "60/63 [===========================>..] - ETA: 0s - loss: 0.1970 - accuracy: 0.9193"
     ]
    }
   ],
   "source": [
    "conv_base.trainable = True\n",
    "for layer in conv_base.layers[:-4]:\n",
    "    layer.trainable = False\n",
    "\n",
    "model.compile(\n",
    "    loss='binary_crossentropy',\n",
    "    optimizer='adam',\n",
    "    metrics=['accuracy']\n",
    ")\n",
    "\n",
    "history = model.fit(\n",
    "    train_dataset,\n",
    "    epochs=30,\n",
    "    validation_data=validation_dataset\n",
    ")"
   ],
   "metadata": {
    "collapsed": false,
    "pycharm": {
     "name": "#%%\n",
     "is_executing": true
    }
   }
  }
 ],
 "metadata": {
  "kernelspec": {
   "display_name": "Python 3",
   "language": "python",
   "name": "python3"
  },
  "language_info": {
   "codemirror_mode": {
    "name": "ipython",
    "version": 2
   },
   "file_extension": ".py",
   "mimetype": "text/x-python",
   "name": "python",
   "nbconvert_exporter": "python",
   "pygments_lexer": "ipython2",
   "version": "2.7.6"
  }
 },
 "nbformat": 4,
 "nbformat_minor": 0
}