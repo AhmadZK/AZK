{
 "cells": [
  {
   "cell_type": "code",
   "execution_count": 15,
   "metadata": {
    "collapsed": true,
    "pycharm": {
     "name": "#%%\n"
    }
   },
   "outputs": [],
   "source": [
    "import tensorflow as tf\n",
    "from keras import layers\n",
    "inputs = layers.Input(shape=(28, 28, 1))\n",
    "x = layers.Conv2D(filters=32, kernel_size=3, activation='relu')(inputs)\n",
    "x = layers.MaxPooling2D(pool_size=2)(x)\n",
    "x = layers.Conv2D(filters=64, kernel_size=3, activation='relu')(x)\n",
    "x = layers.MaxPooling2D(pool_size=2)(x)\n",
    "x = layers.Conv2D(filters=128, kernel_size=3, activation='relu')(x)\n",
    "x = layers.Flatten()(x)\n",
    "outputs = layers.Dense(10, activation='softmax')(x)\n",
    "model = tf.keras.models.Model(inputs, outputs)"
   ]
  },
  {
   "cell_type": "code",
   "execution_count": 16,
   "outputs": [
    {
     "name": "stdout",
     "output_type": "stream",
     "text": [
      "Model: \"model_2\"\n",
      "_________________________________________________________________\n",
      " Layer (type)                Output Shape              Param #   \n",
      "=================================================================\n",
      " input_15 (InputLayer)       [(None, 28, 28, 1)]       0         \n",
      "                                                                 \n",
      " conv2d_23 (Conv2D)          (None, 26, 26, 32)        320       \n",
      "                                                                 \n",
      " max_pooling2d_16 (MaxPoolin  (None, 13, 13, 32)       0         \n",
      " g2D)                                                            \n",
      "                                                                 \n",
      " conv2d_24 (Conv2D)          (None, 11, 11, 64)        18496     \n",
      "                                                                 \n",
      " max_pooling2d_17 (MaxPoolin  (None, 5, 5, 64)         0         \n",
      " g2D)                                                            \n",
      "                                                                 \n",
      " conv2d_25 (Conv2D)          (None, 3, 3, 128)         73856     \n",
      "                                                                 \n",
      " flatten_4 (Flatten)         (None, 1152)              0         \n",
      "                                                                 \n",
      " dense_3 (Dense)             (None, 10)                11530     \n",
      "                                                                 \n",
      "=================================================================\n",
      "Total params: 104,202\n",
      "Trainable params: 104,202\n",
      "Non-trainable params: 0\n",
      "_________________________________________________________________\n"
     ]
    }
   ],
   "source": [
    "model.summary()"
   ],
   "metadata": {
    "collapsed": false,
    "pycharm": {
     "name": "#%%\n"
    }
   }
  },
  {
   "cell_type": "code",
   "execution_count": 18,
   "outputs": [],
   "source": [
    "from keras.datasets import mnist\n",
    "(train_images, train_labels), (test_images, test_labels) = mnist.load_data()\n",
    "train_images = train_images.reshape((60000, 28, 28, 1))\n",
    "train_images = train_images.astype('float32') / 255\n",
    "test_images = test_images.reshape((10000, 28, 28, 1))\n",
    "test_images = test_images.astype('float32') / 255"
   ],
   "metadata": {
    "collapsed": false,
    "pycharm": {
     "name": "#%%\n"
    }
   }
  },
  {
   "cell_type": "code",
   "execution_count": 20,
   "outputs": [],
   "source": [
    "model.compile(\n",
    "    loss='sparse_categorical_crossentropy',\n",
    "    optimizer='rmsprop',\n",
    "    metrics=['accuracy']\n",
    ")"
   ],
   "metadata": {
    "collapsed": false,
    "pycharm": {
     "name": "#%%\n"
    }
   }
  },
  {
   "cell_type": "code",
   "execution_count": 21,
   "outputs": [
    {
     "name": "stdout",
     "output_type": "stream",
     "text": [
      "Epoch 1/5\n",
      "938/938 [==============================] - 10s 5ms/step - loss: 0.1565 - accuracy: 0.9509\n",
      "Epoch 2/5\n",
      "938/938 [==============================] - 4s 5ms/step - loss: 0.0443 - accuracy: 0.9865\n",
      "Epoch 3/5\n",
      "938/938 [==============================] - 5s 5ms/step - loss: 0.0307 - accuracy: 0.9910\n",
      "Epoch 4/5\n",
      "938/938 [==============================] - 5s 5ms/step - loss: 0.0231 - accuracy: 0.9932\n",
      "Epoch 5/5\n",
      "938/938 [==============================] - 5s 5ms/step - loss: 0.0174 - accuracy: 0.9945\n"
     ]
    },
    {
     "data": {
      "text/plain": "<keras.callbacks.History at 0x222fe426d70>"
     },
     "execution_count": 21,
     "metadata": {},
     "output_type": "execute_result"
    }
   ],
   "source": [
    "model.fit(\n",
    "    train_images,\n",
    "    train_labels,\n",
    "    epochs=5,\n",
    "    batch_size=64\n",
    ")"
   ],
   "metadata": {
    "collapsed": false,
    "pycharm": {
     "name": "#%%\n"
    }
   }
  },
  {
   "cell_type": "code",
   "execution_count": 22,
   "outputs": [
    {
     "name": "stdout",
     "output_type": "stream",
     "text": [
      "313/313 [==============================] - 1s 3ms/step - loss: 0.0262 - accuracy: 0.9928\n"
     ]
    },
    {
     "data": {
      "text/plain": "[0.02622157335281372, 0.9927999973297119]"
     },
     "execution_count": 22,
     "metadata": {},
     "output_type": "execute_result"
    }
   ],
   "source": [
    "model.evaluate(test_images, test_labels)"
   ],
   "metadata": {
    "collapsed": false,
    "pycharm": {
     "name": "#%%\n"
    }
   }
  },
  {
   "cell_type": "code",
   "execution_count": 24,
   "outputs": [
    {
     "data": {
      "text/plain": "(28, 28, 1)"
     },
     "execution_count": 24,
     "metadata": {},
     "output_type": "execute_result"
    }
   ],
   "source": [
    "test_images[15].shape"
   ],
   "metadata": {
    "collapsed": false,
    "pycharm": {
     "name": "#%%\n"
    }
   }
  },
  {
   "cell_type": "code",
   "execution_count": 25,
   "outputs": [
    {
     "data": {
      "text/plain": "<Figure size 640x480 with 1 Axes>",
      "image/png": "[encoded data removed]"
     },
     "metadata": {},
     "output_type": "display_data"
    }
   ],
   "source": [
    "import matplotlib.pyplot as plt\n",
    "import matplotlib.image as img\n",
    "plt.imshow(test_images[15])\n",
    "plt.show()"
   ],
   "metadata": {
    "collapsed": false,
    "pycharm": {
     "name": "#%%\n"
    }
   }
  },
  {
   "cell_type": "code",
   "execution_count": 32,
   "outputs": [
    {
     "data": {
      "text/plain": "TensorShape([1, 28, 28, 1])"
     },
     "execution_count": 32,
     "metadata": {},
     "output_type": "execute_result"
    }
   ],
   "source": [
    "image_to_predict = tf.expand_dims(test_images[15], axis=0)\n",
    "image_to_predict.shape"
   ],
   "metadata": {
    "collapsed": false,
    "pycharm": {
     "name": "#%%\n"
    }
   }
  },
  {
   "cell_type": "code",
   "execution_count": 33,
   "outputs": [
    {
     "name": "stdout",
     "output_type": "stream",
     "text": [
      "1/1 [==============================] - 0s 261ms/step\n"
     ]
    }
   ],
   "source": [
    "prediction = model.predict(image_to_predict)"
   ],
   "metadata": {
    "collapsed": false,
    "pycharm": {
     "name": "#%%\n"
    }
   }
  },
  {
   "cell_type": "code",
   "execution_count": 34,
   "outputs": [
    {
     "data": {
      "text/plain": "array([[7.1856479e-12, 8.1593787e-13, 6.1659275e-11, 7.5345833e-06,\n        6.1146538e-15, 9.9999249e-01, 1.6587255e-09, 2.8647290e-10,\n        6.2556521e-10, 6.5096151e-10]], dtype=float32)"
     },
     "execution_count": 34,
     "metadata": {},
     "output_type": "execute_result"
    }
   ],
   "source": [
    "prediction"
   ],
   "metadata": {
    "collapsed": false,
    "pycharm": {
     "name": "#%%\n"
    }
   }
  },
  {
   "cell_type": "code",
   "execution_count": 36,
   "outputs": [
    {
     "data": {
      "text/plain": "array([5], dtype=int64)"
     },
     "execution_count": 36,
     "metadata": {},
     "output_type": "execute_result"
    }
   ],
   "source": [
    "pred = tf.argmax(prediction, axis=1)\n",
    "pred.numpy()"
   ],
   "metadata": {
    "collapsed": false,
    "pycharm": {
     "name": "#%%\n"
    }
   }
  },
  {
   "cell_type": "code",
   "execution_count": 44,
   "outputs": [
    {
     "data": {
      "text/plain": "TensorShape([None, 3, 3, 32])"
     },
     "execution_count": 44,
     "metadata": {},
     "output_type": "execute_result"
    }
   ],
   "source": [
    "inp = layers.Input(shape=(5, 5, 1))\n",
    "x = layers.Conv2D(filters=32, kernel_size=3, strides=1)(inp)\n",
    "x.shape"
   ],
   "metadata": {
    "collapsed": false,
    "pycharm": {
     "name": "#%%\n"
    }
   }
  },
  {
   "cell_type": "code",
   "execution_count": 47,
   "outputs": [],
   "source": [
    "inputs = layers.Input(shape=(28, 28, 1))\n",
    "x = layers.Conv2D(filters=32, kernel_size=3, activation='relu')(inputs)\n",
    "x = layers.Conv2D(filters=64, kernel_size=3, activation='relu')(x)\n",
    "x = layers.Conv2D(filters=128, kernel_size=3, activation='relu')(x)\n",
    "x = layers.Flatten()(x)\n",
    "outputs = layers.Dense(10, activation='softmax')(x)\n",
    "model_without_max_pooling = tf.keras.models.Model(inputs ,outputs)"
   ],
   "metadata": {
    "collapsed": false,
    "pycharm": {
     "name": "#%%\n"
    }
   }
  },
  {
   "cell_type": "code",
   "execution_count": 48,
   "outputs": [
    {
     "name": "stdout",
     "output_type": "stream",
     "text": [
      "Model: \"model_3\"\n",
      "_________________________________________________________________\n",
      " Layer (type)                Output Shape              Param #   \n",
      "=================================================================\n",
      " input_26 (InputLayer)       [(None, 28, 28, 1)]       0         \n",
      "                                                                 \n",
      " conv2d_40 (Conv2D)          (None, 26, 26, 32)        320       \n",
      "                                                                 \n",
      " conv2d_41 (Conv2D)          (None, 24, 24, 64)        18496     \n",
      "                                                                 \n",
      " conv2d_42 (Conv2D)          (None, 22, 22, 128)       73856     \n",
      "                                                                 \n",
      " flatten_7 (Flatten)         (None, 61952)             0         \n",
      "                                                                 \n",
      " dense_6 (Dense)             (None, 10)                619530    \n",
      "                                                                 \n",
      "=================================================================\n",
      "Total params: 712,202\n",
      "Trainable params: 712,202\n",
      "Non-trainable params: 0\n",
      "_________________________________________________________________\n"
     ]
    }
   ],
   "source": [
    "model_without_max_pooling.summary()"
   ],
   "metadata": {
    "collapsed": false,
    "pycharm": {
     "name": "#%%\n"
    }
   }
  },
  {
   "cell_type": "code",
   "execution_count": 71,
   "outputs": [],
   "source": [
    "# using small dataset of 1000 train, 500 validation, 1000 testing\n",
    "import os, pathlib, shutil\n",
    "base_dir = pathlib.Path('dogs-vs-cats')\n",
    "new_base_dir = pathlib.Path('cats_vs_dogs_small')\n",
    "def make_subset(subset_name, start_index, end_index):\n",
    "    for category in ('cat', 'dog'):\n",
    "        dir = new_base_dir / subset_name / category\n",
    "        os.makedirs(dir)\n",
    "        fnames = [f'{category}.{i}.jpg' for i in range(start_index, end_index)]\n",
    "        for fname in fnames:\n",
    "            shutil.copyfile(src=base_dir/category/fname,\n",
    "                            dst=dir/fname)"
   ],
   "metadata": {
    "collapsed": false,
    "pycharm": {
     "name": "#%%\n"
    }
   }
  },
  {
   "cell_type": "code",
   "execution_count": 73,
   "outputs": [],
   "source": [
    "make_subset('train', start_index=1, end_index=1001)"
   ],
   "metadata": {
    "collapsed": false,
    "pycharm": {
     "name": "#%%\n"
    }
   }
  },
  {
   "cell_type": "code",
   "execution_count": 74,
   "outputs": [],
   "source": [
    "make_subset('validation', start_index=1001, end_index=1501)\n",
    "make_subset('test', start_index=1501, end_index=2501)"
   ],
   "metadata": {
    "collapsed": false,
    "pycharm": {
     "name": "#%%\n"
    }
   }
  },
  {
   "cell_type": "code",
   "execution_count": 78,
   "outputs": [],
   "source": [
    "from keras.layers import Conv2D, MaxPooling2D, Flatten, Dense, Input\n",
    "from keras.models import Model\n",
    "inputs = Input(shape=(180, 180, 3))\n",
    "x = Conv2D(32, 3, activation='relu')(inputs)\n",
    "x = MaxPooling2D(2)(x)\n",
    "x = Conv2D(64, 3, activation='relu')(x)\n",
    "x = MaxPooling2D(2)(x)\n",
    "x = Conv2D(128, 3, activation='relu')(x)\n",
    "x = MaxPooling2D(2)(x)\n",
    "x = Conv2D(256, 3, activation='relu')(x)\n",
    "x = MaxPooling2D(2)(x)\n",
    "x = Conv2D(256, 3, activation='relu')(x)\n",
    "x = Flatten()(x)\n",
    "outputs = Dense(1, activation='sigmoid')(x)\n",
    "model_2 = Model(inputs, outputs)\n",
    "\n",
    "\n",
    "model_2.compile(\n",
    "    loss=tf.keras.losses.BinaryCrossentropy(),\n",
    "    optimizer='rmsprop',\n",
    "    metrics=['accuracy']\n",
    ")"
   ],
   "metadata": {
    "collapsed": false,
    "pycharm": {
     "name": "#%%\n"
    }
   }
  },
  {
   "cell_type": "code",
   "execution_count": 79,
   "outputs": [
    {
     "name": "stdout",
     "output_type": "stream",
     "text": [
      "Model: \"model_5\"\n",
      "_________________________________________________________________\n",
      " Layer (type)                Output Shape              Param #   \n",
      "=================================================================\n",
      " input_29 (InputLayer)       [(None, 180, 180, 3)]     0         \n",
      "                                                                 \n",
      " conv2d_49 (Conv2D)          (None, 178, 178, 32)      896       \n",
      "                                                                 \n",
      " max_pooling2d_22 (MaxPoolin  (None, 89, 89, 32)       0         \n",
      " g2D)                                                            \n",
      "                                                                 \n",
      " conv2d_50 (Conv2D)          (None, 87, 87, 64)        18496     \n",
      "                                                                 \n",
      " max_pooling2d_23 (MaxPoolin  (None, 43, 43, 64)       0         \n",
      " g2D)                                                            \n",
      "                                                                 \n",
      " conv2d_51 (Conv2D)          (None, 41, 41, 128)       73856     \n",
      "                                                                 \n",
      " max_pooling2d_24 (MaxPoolin  (None, 20, 20, 128)      0         \n",
      " g2D)                                                            \n",
      "                                                                 \n",
      " conv2d_52 (Conv2D)          (None, 18, 18, 256)       295168    \n",
      "                                                                 \n",
      " max_pooling2d_25 (MaxPoolin  (None, 9, 9, 256)        0         \n",
      " g2D)                                                            \n",
      "                                                                 \n",
      " conv2d_53 (Conv2D)          (None, 7, 7, 256)         590080    \n",
      "                                                                 \n",
      " flatten_9 (Flatten)         (None, 12544)             0         \n",
      "                                                                 \n",
      " dense_8 (Dense)             (None, 1)                 12545     \n",
      "                                                                 \n",
      "=================================================================\n",
      "Total params: 991,041\n",
      "Trainable params: 991,041\n",
      "Non-trainable params: 0\n",
      "_________________________________________________________________\n"
     ]
    }
   ],
   "source": [
    "model_2.summary()"
   ],
   "metadata": {
    "collapsed": false,
    "pycharm": {
     "name": "#%%\n"
    }
   }
  },
  {
   "cell_type": "code",
   "execution_count": 80,
   "outputs": [
    {
     "name": "stdout",
     "output_type": "stream",
     "text": [
      "Found 2000 files belonging to 2 classes.\n",
      "Found 1000 files belonging to 2 classes.\n",
      "Found 2000 files belonging to 2 classes.\n"
     ]
    }
   ],
   "source": [
    "# Reading the images into datasets\n",
    "train_dir = 'cats_vs_dogs_small/train'\n",
    "validation_dir = 'cats_vs_dogs_small/validation'\n",
    "test_dir = 'cats_vs_dogs_small/test'\n",
    "from keras.utils import image_dataset_from_directory\n",
    "train_dataset = image_dataset_from_directory(\n",
    "    directory=train_dir,\n",
    "    batch_size=32,\n",
    "    image_size=(180, 180),\n",
    "    label_mode='binary'\n",
    ")\n",
    "validation_dataset = image_dataset_from_directory(\n",
    "    directory=validation_dir,\n",
    "    batch_size=32,\n",
    "    image_size=(180, 180),\n",
    "    label_mode='binary'\n",
    ")\n",
    "test_dataset = image_dataset_from_directory(\n",
    "    directory=test_dir,\n",
    "    batch_size=32,\n",
    "    image_size=(180, 180),\n",
    "    label_mode='binary'\n",
    ")"
   ],
   "metadata": {
    "collapsed": false,
    "pycharm": {
     "name": "#%%\n"
    }
   }
  },
  {
   "cell_type": "code",
   "execution_count": 81,
   "outputs": [
    {
     "name": "stdout",
     "output_type": "stream",
     "text": [
      "Epoch 1/30\n",
      "63/63 [==============================] - ETA: 0s - loss: 30.3733 - accuracy: 0.5155"
     ]
    },
    {
     "name": "stderr",
     "output_type": "stream",
     "text": [
      "WARNING:absl:Found untraced functions such as _jit_compiled_convolution_op, _jit_compiled_convolution_op, _jit_compiled_convolution_op, _jit_compiled_convolution_op, _jit_compiled_convolution_op while saving (showing 5 of 5). These functions will not be directly callable after loading.\n"
     ]
    },
    {
     "name": "stdout",
     "output_type": "stream",
     "text": [
      "INFO:tensorflow:Assets written to: cats_vs_dogs_small\\model_2_small_dataset\\assets\n"
     ]
    },
    {
     "name": "stderr",
     "output_type": "stream",
     "text": [
      "INFO:tensorflow:Assets written to: cats_vs_dogs_small\\model_2_small_dataset\\assets\n"
     ]
    },
    {
     "name": "stdout",
     "output_type": "stream",
     "text": [
      "63/63 [==============================] - 6s 67ms/step - loss: 30.3733 - accuracy: 0.5155 - val_loss: 0.7037 - val_accuracy: 0.5130\n",
      "Epoch 2/30\n",
      "61/63 [============================>.] - ETA: 0s - loss: 0.7743 - accuracy: 0.5282"
     ]
    },
    {
     "name": "stderr",
     "output_type": "stream",
     "text": [
      "WARNING:absl:Found untraced functions such as _jit_compiled_convolution_op, _jit_compiled_convolution_op, _jit_compiled_convolution_op, _jit_compiled_convolution_op, _jit_compiled_convolution_op while saving (showing 5 of 5). These functions will not be directly callable after loading.\n"
     ]
    },
    {
     "name": "stdout",
     "output_type": "stream",
     "text": [
      "INFO:tensorflow:Assets written to: cats_vs_dogs_small\\model_2_small_dataset\\assets\n"
     ]
    },
    {
     "name": "stderr",
     "output_type": "stream",
     "text": [
      "INFO:tensorflow:Assets written to: cats_vs_dogs_small\\model_2_small_dataset\\assets\n"
     ]
    },
    {
     "name": "stdout",
     "output_type": "stream",
     "text": [
      "63/63 [==============================] - 4s 55ms/step - loss: 0.7728 - accuracy: 0.5260 - val_loss: 0.6899 - val_accuracy: 0.5270\n",
      "Epoch 3/30\n",
      "63/63 [==============================] - 3s 40ms/step - loss: 0.7250 - accuracy: 0.5635 - val_loss: 0.7320 - val_accuracy: 0.5080\n",
      "Epoch 4/30\n",
      "61/63 [============================>.] - ETA: 0s - loss: 0.7078 - accuracy: 0.6071"
     ]
    },
    {
     "name": "stderr",
     "output_type": "stream",
     "text": [
      "WARNING:absl:Found untraced functions such as _jit_compiled_convolution_op, _jit_compiled_convolution_op, _jit_compiled_convolution_op, _jit_compiled_convolution_op, _jit_compiled_convolution_op while saving (showing 5 of 5). These functions will not be directly callable after loading.\n"
     ]
    },
    {
     "name": "stdout",
     "output_type": "stream",
     "text": [
      "INFO:tensorflow:Assets written to: cats_vs_dogs_small\\model_2_small_dataset\\assets\n"
     ]
    },
    {
     "name": "stderr",
     "output_type": "stream",
     "text": [
      "INFO:tensorflow:Assets written to: cats_vs_dogs_small\\model_2_small_dataset\\assets\n"
     ]
    },
    {
     "name": "stdout",
     "output_type": "stream",
     "text": [
      "63/63 [==============================] - 3s 53ms/step - loss: 0.7048 - accuracy: 0.6090 - val_loss: 0.6556 - val_accuracy: 0.6380\n",
      "Epoch 5/30\n",
      "61/63 [============================>.] - ETA: 0s - loss: 0.7626 - accuracy: 0.6383"
     ]
    },
    {
     "name": "stderr",
     "output_type": "stream",
     "text": [
      "WARNING:absl:Found untraced functions such as _jit_compiled_convolution_op, _jit_compiled_convolution_op, _jit_compiled_convolution_op, _jit_compiled_convolution_op, _jit_compiled_convolution_op while saving (showing 5 of 5). These functions will not be directly callable after loading.\n"
     ]
    },
    {
     "name": "stdout",
     "output_type": "stream",
     "text": [
      "INFO:tensorflow:Assets written to: cats_vs_dogs_small\\model_2_small_dataset\\assets\n"
     ]
    },
    {
     "name": "stderr",
     "output_type": "stream",
     "text": [
      "INFO:tensorflow:Assets written to: cats_vs_dogs_small\\model_2_small_dataset\\assets\n"
     ]
    },
    {
     "name": "stdout",
     "output_type": "stream",
     "text": [
      "63/63 [==============================] - 3s 52ms/step - loss: 0.7592 - accuracy: 0.6380 - val_loss: 0.6437 - val_accuracy: 0.6210\n",
      "Epoch 6/30\n",
      "61/63 [============================>.] - ETA: 0s - loss: 0.5830 - accuracy: 0.7003"
     ]
    },
    {
     "name": "stderr",
     "output_type": "stream",
     "text": [
      "WARNING:absl:Found untraced functions such as _jit_compiled_convolution_op, _jit_compiled_convolution_op, _jit_compiled_convolution_op, _jit_compiled_convolution_op, _jit_compiled_convolution_op while saving (showing 5 of 5). These functions will not be directly callable after loading.\n"
     ]
    },
    {
     "name": "stdout",
     "output_type": "stream",
     "text": [
      "INFO:tensorflow:Assets written to: cats_vs_dogs_small\\model_2_small_dataset\\assets\n"
     ]
    },
    {
     "name": "stderr",
     "output_type": "stream",
     "text": [
      "INFO:tensorflow:Assets written to: cats_vs_dogs_small\\model_2_small_dataset\\assets\n"
     ]
    },
    {
     "name": "stdout",
     "output_type": "stream",
     "text": [
      "63/63 [==============================] - 3s 53ms/step - loss: 0.5836 - accuracy: 0.6995 - val_loss: 0.6380 - val_accuracy: 0.6370\n",
      "Epoch 7/30\n",
      "63/63 [==============================] - 3s 40ms/step - loss: 0.5359 - accuracy: 0.7370 - val_loss: 0.8791 - val_accuracy: 0.6850\n",
      "Epoch 8/30\n",
      "63/63 [==============================] - 3s 41ms/step - loss: 0.5216 - accuracy: 0.7570 - val_loss: 0.7270 - val_accuracy: 0.6680\n",
      "Epoch 9/30\n",
      "63/63 [==============================] - 3s 40ms/step - loss: 0.4689 - accuracy: 0.8030 - val_loss: 2.1316 - val_accuracy: 0.5520\n",
      "Epoch 10/30\n",
      "63/63 [==============================] - 3s 45ms/step - loss: 0.3807 - accuracy: 0.8330 - val_loss: 1.0122 - val_accuracy: 0.6550\n",
      "Epoch 11/30\n",
      "63/63 [==============================] - 3s 50ms/step - loss: 0.3000 - accuracy: 0.8760 - val_loss: 1.1855 - val_accuracy: 0.6330\n",
      "Epoch 12/30\n",
      "63/63 [==============================] - 3s 42ms/step - loss: 0.3795 - accuracy: 0.8715 - val_loss: 0.8405 - val_accuracy: 0.6820\n",
      "Epoch 13/30\n",
      "63/63 [==============================] - 3s 41ms/step - loss: 0.2269 - accuracy: 0.9095 - val_loss: 1.1097 - val_accuracy: 0.7140\n",
      "Epoch 14/30\n",
      "63/63 [==============================] - 3s 41ms/step - loss: 0.2041 - accuracy: 0.9220 - val_loss: 1.5612 - val_accuracy: 0.6890\n",
      "Epoch 15/30\n",
      "63/63 [==============================] - 3s 40ms/step - loss: 0.2091 - accuracy: 0.9275 - val_loss: 1.7059 - val_accuracy: 0.6930\n",
      "Epoch 16/30\n",
      "63/63 [==============================] - 3s 41ms/step - loss: 0.2401 - accuracy: 0.9340 - val_loss: 1.6418 - val_accuracy: 0.7130\n",
      "Epoch 17/30\n",
      "63/63 [==============================] - 3s 40ms/step - loss: 0.1565 - accuracy: 0.9445 - val_loss: 1.9556 - val_accuracy: 0.7120\n",
      "Epoch 18/30\n",
      "63/63 [==============================] - 3s 42ms/step - loss: 0.1669 - accuracy: 0.9465 - val_loss: 2.1411 - val_accuracy: 0.7030\n",
      "Epoch 19/30\n",
      "63/63 [==============================] - 3s 41ms/step - loss: 0.1912 - accuracy: 0.9500 - val_loss: 3.9541 - val_accuracy: 0.6410\n",
      "Epoch 20/30\n",
      "63/63 [==============================] - 3s 40ms/step - loss: 0.1770 - accuracy: 0.9545 - val_loss: 3.0167 - val_accuracy: 0.6550\n",
      "Epoch 21/30\n",
      "63/63 [==============================] - 3s 40ms/step - loss: 0.1727 - accuracy: 0.9505 - val_loss: 3.2856 - val_accuracy: 0.6730\n",
      "Epoch 22/30\n",
      "63/63 [==============================] - 3s 40ms/step - loss: 0.1672 - accuracy: 0.9595 - val_loss: 2.4348 - val_accuracy: 0.7050\n",
      "Epoch 23/30\n",
      "63/63 [==============================] - 3s 40ms/step - loss: 0.1507 - accuracy: 0.9580 - val_loss: 2.7590 - val_accuracy: 0.6570\n",
      "Epoch 24/30\n",
      "63/63 [==============================] - 3s 40ms/step - loss: 0.1627 - accuracy: 0.9575 - val_loss: 3.1011 - val_accuracy: 0.6880\n",
      "Epoch 25/30\n",
      "63/63 [==============================] - 3s 40ms/step - loss: 0.1228 - accuracy: 0.9635 - val_loss: 3.9649 - val_accuracy: 0.6420\n",
      "Epoch 26/30\n",
      "63/63 [==============================] - 3s 40ms/step - loss: 0.2226 - accuracy: 0.9610 - val_loss: 2.6174 - val_accuracy: 0.6830\n",
      "Epoch 27/30\n",
      "63/63 [==============================] - 3s 40ms/step - loss: 0.1718 - accuracy: 0.9610 - val_loss: 4.4049 - val_accuracy: 0.6810\n",
      "Epoch 28/30\n",
      "63/63 [==============================] - 3s 40ms/step - loss: 0.1646 - accuracy: 0.9630 - val_loss: 3.4039 - val_accuracy: 0.7070\n",
      "Epoch 29/30\n",
      "63/63 [==============================] - 3s 40ms/step - loss: 0.2152 - accuracy: 0.9605 - val_loss: 3.7390 - val_accuracy: 0.6690\n",
      "Epoch 30/30\n",
      "63/63 [==============================] - 3s 40ms/step - loss: 0.1360 - accuracy: 0.9735 - val_loss: 3.7289 - val_accuracy: 0.6910\n"
     ]
    }
   ],
   "source": [
    "callbacks = [tf.keras.callbacks.ModelCheckpoint('cats_vs_dogs_small/model_2_small_dataset',\n",
    "                                                save_best_only=True,\n",
    "                                                monitor='val_loss')]\n",
    "history_model_2 = model_2.fit(\n",
    "    train_dataset,\n",
    "    epochs=30,\n",
    "    validation_data=validation_dataset,\n",
    "    callbacks=callbacks\n",
    ")"
   ],
   "metadata": {
    "collapsed": false,
    "pycharm": {
     "name": "#%%\n"
    }
   }
  },
  {
   "cell_type": "code",
   "execution_count": 86,
   "outputs": [],
   "source": [
    "def plot_loss_curve(history):\n",
    "    loss = history.history[\"loss\"]\n",
    "    val_loss = history.history[\"val_accuracy\"]\n",
    "    accuracy = history.history[\"accuracy\"]\n",
    "    val_accuracy = history.history[\"val_accuracy\"]\n",
    "    epoch = range(len(history.history[\"loss\"]))\n",
    "\n",
    "    plt.figure(figsize=(14, 7))\n",
    "    plt.subplot(1, 2, 1)\n",
    "    plt.plot(epoch, loss, label=\"Training Loss\")\n",
    "    plt.plot(epoch, val_loss, label=\"Validation Loss\")\n",
    "    plt.title(\"Loss Curves\")\n",
    "    plt.xlabel(\"Epoch\")\n",
    "    plt.ylabel(\"Loss\")\n",
    "    plt.legend()\n",
    "    plt.tight_layout()\n",
    "\n",
    "    plt.subplot(1, 2, 2)\n",
    "    plt.plot(epoch, accuracy, label=\"Training Accuracy\")\n",
    "    plt.plot(epoch, val_accuracy, label=\"Validation Accuracy\")\n",
    "    plt.title(\"Accuracy Curves\")\n",
    "    plt.xlabel(\"Epoch\")\n",
    "    plt.ylabel(\"Accuracy\")\n",
    "    plt.legend()\n",
    "    plt.tight_layout()\n",
    "    plt.show()"
   ],
   "metadata": {
    "collapsed": false,
    "pycharm": {
     "name": "#%%\n"
    }
   }
  },
  {
   "cell_type": "code",
   "execution_count": 87,
   "outputs": [
    {
     "data": {
      "text/plain": "<Figure size 1400x700 with 2 Axes>",
      "image/png": "[encoded data removed]"
     },
     "metadata": {},
     "output_type": "display_data"
    }
   ],
   "source": [
    "plot_loss_curve(history=history_model_2)"
   ],
   "metadata": {
    "collapsed": false,
    "pycharm": {
     "name": "#%%\n"
    }
   }
  },
  {
   "cell_type": "code",
   "execution_count": 88,
   "outputs": [
    {
     "name": "stdout",
     "output_type": "stream",
     "text": [
      "32/32 [==============================] - 1s 15ms/step - loss: 3.7289 - accuracy: 0.6910\n"
     ]
    },
    {
     "data": {
      "text/plain": "[3.728910446166992, 0.6909999847412109]"
     },
     "execution_count": 88,
     "metadata": {},
     "output_type": "execute_result"
    }
   ],
   "source": [
    "model_2.evaluate(validation_dataset)"
   ],
   "metadata": {
    "collapsed": false,
    "pycharm": {
     "name": "#%%\n"
    }
   }
  },
  {
   "cell_type": "code",
   "execution_count": 89,
   "outputs": [
    {
     "name": "stdout",
     "output_type": "stream",
     "text": [
      "32/32 [==============================] - 1s 14ms/step - loss: 0.6380 - accuracy: 0.6370\n"
     ]
    },
    {
     "data": {
      "text/plain": "[0.6379686594009399, 0.6370000243186951]"
     },
     "execution_count": 89,
     "metadata": {},
     "output_type": "execute_result"
    }
   ],
   "source": [
    "model_2 = tf.keras.models.load_model('cats_vs_dogs_small/model_2_small_dataset')\n",
    "model_2.evaluate(validation_dataset)"
   ],
   "metadata": {
    "collapsed": false,
    "pycharm": {
     "name": "#%%\n"
    }
   }
  },
  {
   "cell_type": "code",
   "execution_count": 90,
   "outputs": [],
   "source": [
    "# Using data augmentation and scalling\n",
    "data_augmentation = tf.keras.models.Sequential([\n",
    "    layers.RandomFlip('horizontal'),\n",
    "    layers.RandomRotation(0.1),\n",
    "    layers.RandomZoom(0.1)\n",
    "])"
   ],
   "metadata": {
    "collapsed": false,
    "pycharm": {
     "name": "#%%\n"
    }
   }
  },
  {
   "cell_type": "code",
   "execution_count": null,
   "outputs": [],
   "source": [
    "inputs = Input(shape=(180, 180, 3))\n",
    "x = data_augmentation(inputs)\n",
    "x = layers.Rescaling(1./255)(x)\n",
    "x = Conv2D(32, 3, activation='relu')(x)\n",
    "x = MaxPooling2D(2)(x)\n",
    "x = Conv2D(64, 3, activation='relu')(x)\n",
    "x = MaxPooling2D(2)(x)\n",
    "x = Conv2D(128, 3, activation='relu')(x)\n",
    "x = MaxPooling2D(2)(x)\n",
    "x = Conv2D(256, 3, activation='relu')(x)\n",
    "x = MaxPooling2D(2)(x)\n",
    "x = Conv2D(256, 3, activation='relu')(x)\n",
    "x = Flatten()(x)\n",
    "outputs = Dense(1, activation='sigmoid')(x)\n",
    "model_3 = Model(inputs, outputs)\n",
    "\n",
    "model_3.compile(\n",
    "    loss=tf.keras.losses.BinaryCrossentropy(),\n",
    "    optimizer='rmsprop',\n",
    "    metrics=['accuracy']\n",
    ")\n",
    "\n",
    "callbacks = [tf.keras.callbacks.ModelCheckpoint('cats_vs_dogs_small/model_3_normalized_data_augmentation',\n",
    "                                                save_best_only=True,\n",
    "                                                monitor='val_loss')]\n",
    "\n",
    "history_model_3 = model_3.fit(\n",
    "    train_dataset,\n",
    "    epochs=100,\n",
    "    validation_data=validation_dataset,\n",
    "    callbacks=callbacks\n",
    ")"
   ],
   "metadata": {
    "collapsed": false,
    "pycharm": {
     "name": "#%%\n",
     "is_executing": true
    }
   }
  },
  {
   "cell_type": "code",
   "execution_count": 93,
   "outputs": [
    {
     "name": "stdout",
     "output_type": "stream",
     "text": [
      "63/63 [==============================] - 2s 17ms/step - loss: 1.9354 - accuracy: 0.7555\n"
     ]
    },
    {
     "data": {
      "text/plain": "[1.9354051351547241, 0.7555000185966492]"
     },
     "execution_count": 93,
     "metadata": {},
     "output_type": "execute_result"
    }
   ],
   "source": [
    "model_3.evaluate(test_dataset)"
   ],
   "metadata": {
    "collapsed": false,
    "pycharm": {
     "name": "#%%\n"
    }
   }
  },
  {
   "cell_type": "code",
   "execution_count": null,
   "outputs": [],
   "source": [
    "model_3 = tf.keras.models.load_model('cats_vs_dogs_small/model_3_normalized_data_augmentation')\n",
    "model_3.evaluate(test_dataset)"
   ],
   "metadata": {
    "collapsed": false,
    "pycharm": {
     "name": "#%%\n",
     "is_executing": true
    }
   }
  },
  {
   "cell_type": "code",
   "execution_count": 95,
   "outputs": [
    {
     "data": {
      "text/plain": "<Figure size 1400x700 with 2 Axes>",
      "image/png": "[encoded data removed]"
     },
     "metadata": {},
     "output_type": "display_data"
    }
   ],
   "source": [
    "plot_loss_curve(history=history_model_3)"
   ],
   "metadata": {
    "collapsed": false,
    "pycharm": {
     "name": "#%%\n"
    }
   }
  },
  {
   "cell_type": "code",
   "execution_count": 97,
   "outputs": [
    {
     "name": "stdout",
     "output_type": "stream",
     "text": [
      "Downloading data from https://storage.googleapis.com/tensorflow/keras-applications/vgg16/vgg16_weights_tf_dim_ordering_tf_kernels_notop.h5\n",
      "58889256/58889256 [==============================] - 2s 0us/step\n"
     ]
    }
   ],
   "source": [
    "# using feature extraction\n",
    "conv_base = tf.keras.applications.vgg16.VGG16(\n",
    "    weights='imagenet',\n",
    "    include_top=False,\n",
    "    input_shape=(180, 180, 3)\n",
    ")"
   ],
   "metadata": {
    "collapsed": false,
    "pycharm": {
     "name": "#%%\n"
    }
   }
  },
  {
   "cell_type": "code",
   "execution_count": 98,
   "outputs": [
    {
     "name": "stdout",
     "output_type": "stream",
     "text": [
      "Model: \"vgg16\"\n",
      "_________________________________________________________________\n",
      " Layer (type)                Output Shape              Param #   \n",
      "=================================================================\n",
      " input_32 (InputLayer)       [(None, 180, 180, 3)]     0         \n",
      "                                                                 \n",
      " block1_conv1 (Conv2D)       (None, 180, 180, 64)      1792      \n",
      "                                                                 \n",
      " block1_conv2 (Conv2D)       (None, 180, 180, 64)      36928     \n",
      "                                                                 \n",
      " block1_pool (MaxPooling2D)  (None, 90, 90, 64)        0         \n",
      "                                                                 \n",
      " block2_conv1 (Conv2D)       (None, 90, 90, 128)       73856     \n",
      "                                                                 \n",
      " block2_conv2 (Conv2D)       (None, 90, 90, 128)       147584    \n",
      "                                                                 \n",
      " block2_pool (MaxPooling2D)  (None, 45, 45, 128)       0         \n",
      "                                                                 \n",
      " block3_conv1 (Conv2D)       (None, 45, 45, 256)       295168    \n",
      "                                                                 \n",
      " block3_conv2 (Conv2D)       (None, 45, 45, 256)       590080    \n",
      "                                                                 \n",
      " block3_conv3 (Conv2D)       (None, 45, 45, 256)       590080    \n",
      "                                                                 \n",
      " block3_pool (MaxPooling2D)  (None, 22, 22, 256)       0         \n",
      "                                                                 \n",
      " block4_conv1 (Conv2D)       (None, 22, 22, 512)       1180160   \n",
      "                                                                 \n",
      " block4_conv2 (Conv2D)       (None, 22, 22, 512)       2359808   \n",
      "                                                                 \n",
      " block4_conv3 (Conv2D)       (None, 22, 22, 512)       2359808   \n",
      "                                                                 \n",
      " block4_pool (MaxPooling2D)  (None, 11, 11, 512)       0         \n",
      "                                                                 \n",
      " block5_conv1 (Conv2D)       (None, 11, 11, 512)       2359808   \n",
      "                                                                 \n",
      " block5_conv2 (Conv2D)       (None, 11, 11, 512)       2359808   \n",
      "                                                                 \n",
      " block5_conv3 (Conv2D)       (None, 11, 11, 512)       2359808   \n",
      "                                                                 \n",
      " block5_pool (MaxPooling2D)  (None, 5, 5, 512)         0         \n",
      "                                                                 \n",
      "=================================================================\n",
      "Total params: 14,714,688\n",
      "Trainable params: 14,714,688\n",
      "Non-trainable params: 0\n",
      "_________________________________________________________________\n"
     ]
    }
   ],
   "source": [
    "conv_base.summary()"
   ],
   "metadata": {
    "collapsed": false,
    "pycharm": {
     "name": "#%%\n"
    }
   }
  },
  {
   "cell_type": "code",
   "execution_count": 99,
   "outputs": [],
   "source": [
    "import numpy as np\n",
    "def get_features_and_labels(dataset):\n",
    "    all_features = []\n",
    "    all_labels = []\n",
    "    for images, labels in dataset:\n",
    "        preprocessed_images = tf.keras.applications.vgg16.preprocess_input(images)\n",
    "        features = conv_base.predict(preprocessed_images)\n",
    "        all_features.append(features)\n",
    "        all_labels.append(labels)\n",
    "        return np.concatenate(all_features), np.concatenate(all_labels)"
   ],
   "metadata": {
    "collapsed": false,
    "pycharm": {
     "name": "#%%\n"
    }
   }
  },
  {
   "cell_type": "code",
   "execution_count": 100,
   "outputs": [
    {
     "name": "stdout",
     "output_type": "stream",
     "text": [
      "1/1 [==============================] - 3s 3s/step\n",
      "1/1 [==============================] - 0s 17ms/step\n",
      "1/1 [==============================] - 0s 18ms/step\n"
     ]
    }
   ],
   "source": [
    "train_features, train_labels = get_features_and_labels(train_dataset)\n",
    "validation_features, validation_labels = get_features_and_labels(validation_dataset)\n",
    "test_features, test_labels = get_features_and_labels(test_dataset)"
   ],
   "metadata": {
    "collapsed": false,
    "pycharm": {
     "name": "#%%\n"
    }
   }
  },
  {
   "cell_type": "code",
   "execution_count": 101,
   "outputs": [
    {
     "data": {
      "text/plain": "(32, 5, 5, 512)"
     },
     "execution_count": 101,
     "metadata": {},
     "output_type": "execute_result"
    }
   ],
   "source": [
    "train_features.shape"
   ],
   "metadata": {
    "collapsed": false,
    "pycharm": {
     "name": "#%%\n"
    }
   }
  },
  {
   "cell_type": "code",
   "execution_count": null,
   "outputs": [],
   "source": [
    "inputs = Input(shape=(5, 5, 512))\n",
    "x = layers.Flatten()(inputs)\n",
    "x = layers.Dropout(0.5)(x)\n",
    "outputs = layers.Dense(1, activation='sigmoid')(x)\n",
    "model_4 = Model(inputs, outputs)\n",
    "\n",
    "model_4.compile(\n",
    "    loss=tf.keras.losses.BinaryCrossentropy(),\n",
    "    optimizer='rmsprop',\n",
    "    metrics=['accuracy']\n",
    ")\n",
    "\n",
    "callbacks = [tf.keras.callbacks.ModelCheckpoint('cats_vs_dogs_small/model_4_feature_extraction',\n",
    "                                                save_best_only=True,\n",
    "                                                monitor='val_loss')]\n",
    "\n",
    "history_model_4 = model_4.fit(\n",
    "    train_features,\n",
    "    train_labels,\n",
    "    epochs=20,\n",
    "    validation_data=(validation_features, validation_labels),\n",
    "    callbacks=callbacks\n",
    ")"
   ],
   "metadata": {
    "collapsed": false,
    "pycharm": {
     "name": "#%%\n",
     "is_executing": true
    }
   }
  },
  {
   "cell_type": "code",
   "execution_count": 104,
   "outputs": [
    {
     "name": "stdout",
     "output_type": "stream",
     "text": [
      "1/1 [==============================] - 0s 21ms/step - loss: 2.5540 - accuracy: 0.7812\n"
     ]
    },
    {
     "data": {
      "text/plain": "[2.553994655609131, 0.78125]"
     },
     "execution_count": 104,
     "metadata": {},
     "output_type": "execute_result"
    }
   ],
   "source": [
    "model_4.evaluate(test_features, test_labels)"
   ],
   "metadata": {
    "collapsed": false,
    "pycharm": {
     "name": "#%%\n"
    }
   }
  },
  {
   "cell_type": "code",
   "execution_count": 105,
   "outputs": [
    {
     "name": "stdout",
     "output_type": "stream",
     "text": [
      "1/1 [==============================] - 0s 85ms/step - loss: 1.4057 - accuracy: 0.9062\n"
     ]
    },
    {
     "data": {
      "text/plain": "[1.4057068824768066, 0.90625]"
     },
     "execution_count": 105,
     "metadata": {},
     "output_type": "execute_result"
    }
   ],
   "source": [
    "model_4 = tf.keras.models.load_model('cats_vs_dogs_small/model_4_feature_extraction')\n",
    "model_4.evaluate(test_features, test_labels)"
   ],
   "metadata": {
    "collapsed": false,
    "pycharm": {
     "name": "#%%\n"
    }
   }
  },
  {
   "cell_type": "code",
   "execution_count": 106,
   "outputs": [
    {
     "data": {
      "text/plain": "<Figure size 1400x700 with 2 Axes>",
      "image/png": "[encoded data removed]"
     },
     "metadata": {},
     "output_type": "display_data"
    }
   ],
   "source": [
    "plot_loss_curve(history=history_model_4)"
   ],
   "metadata": {
    "collapsed": false,
    "pycharm": {
     "name": "#%%\n"
    }
   }
  },
  {
   "cell_type": "code",
   "execution_count": 107,
   "outputs": [
    {
     "data": {
      "text/plain": "0"
     },
     "execution_count": 107,
     "metadata": {},
     "output_type": "execute_result"
    }
   ],
   "source": [
    "conv_base = tf.keras.applications.vgg16.VGG16(\n",
    "    weights='imagenet',\n",
    "    include_top=False\n",
    ")\n",
    "conv_base.trainable = False\n",
    "len(conv_base.trainable_weights)"
   ],
   "metadata": {
    "collapsed": false,
    "pycharm": {
     "name": "#%%\n"
    }
   }
  },
  {
   "cell_type": "code",
   "execution_count": 110,
   "outputs": [
    {
     "data": {
      "text/plain": "0"
     },
     "execution_count": 110,
     "metadata": {},
     "output_type": "execute_result"
    }
   ],
   "source": [
    "conv_base.trainable = False\n",
    "len(conv_base.trainable_weights)"
   ],
   "metadata": {
    "collapsed": false,
    "pycharm": {
     "name": "#%%\n"
    }
   }
  },
  {
   "cell_type": "code",
   "execution_count": null,
   "outputs": [],
   "source": [
    "# inputs = Input(shape=(180, 180, 3))\n",
    "# x = data_augmentation(inputs)\n",
    "# x = tf.keras.applications.vgg16.preprocess_input(x)\n",
    "# x = conv_base(x)\n",
    "# x = layers.Flatten()(x)\n",
    "# x = Dense(256)(x)\n",
    "# x = layers.Dropout(0.5)(x)\n",
    "# outputs = Dense(1, activation='sigmoid')(x)\n",
    "# model_5 = Model(inputs, outputs)\n",
    "#\n",
    "# model_5.compile(\n",
    "#     loss=tf.keras.losses.BinaryCrossentropy(),\n",
    "#     optimizer='rmsprop',\n",
    "#     metrics=['accuracy']\n",
    "# )\n",
    "#\n",
    "# callbacks = [tf.keras.callbacks.ModelCheckpoint('cats_vs_dogs_small/model_5_extraction_data_augmentation',\n",
    "#                                                 save_best_only=True,\n",
    "#                                                 monitor='val_loss')]\n",
    "#\n",
    "# history_model_5 = model_5.fit(\n",
    "#     train_dataset,\n",
    "#     epochs=50,\n",
    "#     validation_data=validation_dataset,\n",
    "#     callbacks=callbacks\n",
    "# )"
   ],
   "metadata": {
    "collapsed": false,
    "pycharm": {
     "name": "#%%\n",
     "is_executing": true
    }
   }
  },
  {
   "cell_type": "code",
   "execution_count": 124,
   "outputs": [
    {
     "name": "stdout",
     "output_type": "stream",
     "text": [
      "Epoch 1/50\n",
      "WARNING:tensorflow:Using a while_loop for converting RngReadAndSkip cause there is no registered converter for this op.\n"
     ]
    },
    {
     "name": "stderr",
     "output_type": "stream",
     "text": [
      "WARNING:tensorflow:Using a while_loop for converting RngReadAndSkip cause there is no registered converter for this op.\n"
     ]
    },
    {
     "name": "stdout",
     "output_type": "stream",
     "text": [
      "WARNING:tensorflow:Using a while_loop for converting Bitcast cause there is no registered converter for this op.\n"
     ]
    },
    {
     "name": "stderr",
     "output_type": "stream",
     "text": [
      "WARNING:tensorflow:Using a while_loop for converting Bitcast cause there is no registered converter for this op.\n"
     ]
    },
    {
     "name": "stdout",
     "output_type": "stream",
     "text": [
      "WARNING:tensorflow:Using a while_loop for converting Bitcast cause there is no registered converter for this op.\n"
     ]
    },
    {
     "name": "stderr",
     "output_type": "stream",
     "text": [
      "WARNING:tensorflow:Using a while_loop for converting Bitcast cause there is no registered converter for this op.\n"
     ]
    },
    {
     "name": "stdout",
     "output_type": "stream",
     "text": [
      "WARNING:tensorflow:Using a while_loop for converting StatelessRandomUniformV2 cause there is no registered converter for this op.\n"
     ]
    },
    {
     "name": "stderr",
     "output_type": "stream",
     "text": [
      "WARNING:tensorflow:Using a while_loop for converting StatelessRandomUniformV2 cause there is no registered converter for this op.\n"
     ]
    },
    {
     "name": "stdout",
     "output_type": "stream",
     "text": [
      "WARNING:tensorflow:Using a while_loop for converting ImageProjectiveTransformV3 cause there is no registered converter for this op.\n"
     ]
    },
    {
     "name": "stderr",
     "output_type": "stream",
     "text": [
      "WARNING:tensorflow:Using a while_loop for converting ImageProjectiveTransformV3 cause there is no registered converter for this op.\n"
     ]
    },
    {
     "name": "stdout",
     "output_type": "stream",
     "text": [
      "WARNING:tensorflow:Using a while_loop for converting RngReadAndSkip cause there is no registered converter for this op.\n"
     ]
    },
    {
     "name": "stderr",
     "output_type": "stream",
     "text": [
      "WARNING:tensorflow:Using a while_loop for converting RngReadAndSkip cause there is no registered converter for this op.\n"
     ]
    },
    {
     "name": "stdout",
     "output_type": "stream",
     "text": [
      "WARNING:tensorflow:Using a while_loop for converting Bitcast cause there is no registered converter for this op.\n"
     ]
    },
    {
     "name": "stderr",
     "output_type": "stream",
     "text": [
      "WARNING:tensorflow:Using a while_loop for converting Bitcast cause there is no registered converter for this op.\n"
     ]
    },
    {
     "name": "stdout",
     "output_type": "stream",
     "text": [
      "WARNING:tensorflow:Using a while_loop for converting Bitcast cause there is no registered converter for this op.\n"
     ]
    },
    {
     "name": "stderr",
     "output_type": "stream",
     "text": [
      "WARNING:tensorflow:Using a while_loop for converting Bitcast cause there is no registered converter for this op.\n"
     ]
    },
    {
     "name": "stdout",
     "output_type": "stream",
     "text": [
      "WARNING:tensorflow:Using a while_loop for converting StatelessRandomUniformV2 cause there is no registered converter for this op.\n"
     ]
    },
    {
     "name": "stderr",
     "output_type": "stream",
     "text": [
      "WARNING:tensorflow:Using a while_loop for converting StatelessRandomUniformV2 cause there is no registered converter for this op.\n"
     ]
    },
    {
     "name": "stdout",
     "output_type": "stream",
     "text": [
      "WARNING:tensorflow:Using a while_loop for converting ImageProjectiveTransformV3 cause there is no registered converter for this op.\n"
     ]
    },
    {
     "name": "stderr",
     "output_type": "stream",
     "text": [
      "WARNING:tensorflow:Using a while_loop for converting ImageProjectiveTransformV3 cause there is no registered converter for this op.\n"
     ]
    },
    {
     "name": "stdout",
     "output_type": "stream",
     "text": [
      "WARNING:tensorflow:Using a while_loop for converting RngReadAndSkip cause there is no registered converter for this op.\n"
     ]
    },
    {
     "name": "stderr",
     "output_type": "stream",
     "text": [
      "WARNING:tensorflow:Using a while_loop for converting RngReadAndSkip cause there is no registered converter for this op.\n"
     ]
    },
    {
     "name": "stdout",
     "output_type": "stream",
     "text": [
      "WARNING:tensorflow:Using a while_loop for converting Bitcast cause there is no registered converter for this op.\n"
     ]
    },
    {
     "name": "stderr",
     "output_type": "stream",
     "text": [
      "WARNING:tensorflow:Using a while_loop for converting Bitcast cause there is no registered converter for this op.\n"
     ]
    },
    {
     "name": "stdout",
     "output_type": "stream",
     "text": [
      "WARNING:tensorflow:Using a while_loop for converting Bitcast cause there is no registered converter for this op.\n"
     ]
    },
    {
     "name": "stderr",
     "output_type": "stream",
     "text": [
      "WARNING:tensorflow:Using a while_loop for converting Bitcast cause there is no registered converter for this op.\n"
     ]
    },
    {
     "name": "stdout",
     "output_type": "stream",
     "text": [
      "WARNING:tensorflow:Using a while_loop for converting StatelessRandomUniformV2 cause there is no registered converter for this op.\n"
     ]
    },
    {
     "name": "stderr",
     "output_type": "stream",
     "text": [
      "WARNING:tensorflow:Using a while_loop for converting StatelessRandomUniformV2 cause there is no registered converter for this op.\n"
     ]
    },
    {
     "name": "stdout",
     "output_type": "stream",
     "text": [
      "WARNING:tensorflow:Using a while_loop for converting ImageProjectiveTransformV3 cause there is no registered converter for this op.\n"
     ]
    },
    {
     "name": "stderr",
     "output_type": "stream",
     "text": [
      "WARNING:tensorflow:Using a while_loop for converting ImageProjectiveTransformV3 cause there is no registered converter for this op.\n"
     ]
    },
    {
     "name": "stdout",
     "output_type": "stream",
     "text": [
      "WARNING:tensorflow:Using a while_loop for converting RngReadAndSkip cause there is no registered converter for this op.\n"
     ]
    },
    {
     "name": "stderr",
     "output_type": "stream",
     "text": [
      "WARNING:tensorflow:Using a while_loop for converting RngReadAndSkip cause there is no registered converter for this op.\n"
     ]
    },
    {
     "name": "stdout",
     "output_type": "stream",
     "text": [
      "WARNING:tensorflow:Using a while_loop for converting Bitcast cause there is no registered converter for this op.\n"
     ]
    },
    {
     "name": "stderr",
     "output_type": "stream",
     "text": [
      "WARNING:tensorflow:Using a while_loop for converting Bitcast cause there is no registered converter for this op.\n"
     ]
    },
    {
     "name": "stdout",
     "output_type": "stream",
     "text": [
      "WARNING:tensorflow:Using a while_loop for converting Bitcast cause there is no registered converter for this op.\n"
     ]
    },
    {
     "name": "stderr",
     "output_type": "stream",
     "text": [
      "WARNING:tensorflow:Using a while_loop for converting Bitcast cause there is no registered converter for this op.\n"
     ]
    },
    {
     "name": "stdout",
     "output_type": "stream",
     "text": [
      "WARNING:tensorflow:Using a while_loop for converting StatelessRandomUniformV2 cause there is no registered converter for this op.\n"
     ]
    },
    {
     "name": "stderr",
     "output_type": "stream",
     "text": [
      "WARNING:tensorflow:Using a while_loop for converting StatelessRandomUniformV2 cause there is no registered converter for this op.\n"
     ]
    },
    {
     "name": "stdout",
     "output_type": "stream",
     "text": [
      "WARNING:tensorflow:Using a while_loop for converting ImageProjectiveTransformV3 cause there is no registered converter for this op.\n"
     ]
    },
    {
     "name": "stderr",
     "output_type": "stream",
     "text": [
      "WARNING:tensorflow:Using a while_loop for converting ImageProjectiveTransformV3 cause there is no registered converter for this op.\n"
     ]
    },
    {
     "name": "stdout",
     "output_type": "stream",
     "text": [
      "63/63 [==============================] - 21s 236ms/step - loss: 0.2682 - accuracy: 0.9325 - val_loss: 0.1264 - val_accuracy: 0.9710\n",
      "Epoch 2/50\n",
      "63/63 [==============================] - 14s 220ms/step - loss: 0.1119 - accuracy: 0.9675 - val_loss: 0.0828 - val_accuracy: 0.9790\n",
      "Epoch 3/50\n",
      "63/63 [==============================] - 14s 219ms/step - loss: 0.0807 - accuracy: 0.9790 - val_loss: 0.0664 - val_accuracy: 0.9830\n",
      "Epoch 4/50\n",
      "63/63 [==============================] - 14s 220ms/step - loss: 0.0655 - accuracy: 0.9840 - val_loss: 0.0583 - val_accuracy: 0.9820\n",
      "Epoch 5/50\n",
      "63/63 [==============================] - 14s 219ms/step - loss: 0.0604 - accuracy: 0.9845 - val_loss: 0.0517 - val_accuracy: 0.9830\n",
      "Epoch 6/50\n",
      "63/63 [==============================] - 14s 218ms/step - loss: 0.0599 - accuracy: 0.9815 - val_loss: 0.0476 - val_accuracy: 0.9840\n",
      "Epoch 7/50\n",
      "63/63 [==============================] - 14s 218ms/step - loss: 0.0488 - accuracy: 0.9855 - val_loss: 0.0453 - val_accuracy: 0.9840\n",
      "Epoch 8/50\n",
      "63/63 [==============================] - 14s 218ms/step - loss: 0.0467 - accuracy: 0.9870 - val_loss: 0.0422 - val_accuracy: 0.9850\n",
      "Epoch 9/50\n",
      "63/63 [==============================] - 14s 217ms/step - loss: 0.0458 - accuracy: 0.9860 - val_loss: 0.0407 - val_accuracy: 0.9850\n",
      "Epoch 10/50\n",
      "63/63 [==============================] - 14s 219ms/step - loss: 0.0429 - accuracy: 0.9880 - val_loss: 0.0391 - val_accuracy: 0.9850\n",
      "Epoch 11/50\n",
      "63/63 [==============================] - 14s 217ms/step - loss: 0.0403 - accuracy: 0.9880 - val_loss: 0.0383 - val_accuracy: 0.9870\n",
      "Epoch 12/50\n",
      "63/63 [==============================] - 14s 216ms/step - loss: 0.0311 - accuracy: 0.9925 - val_loss: 0.0376 - val_accuracy: 0.9860\n",
      "Epoch 13/50\n",
      "63/63 [==============================] - 14s 218ms/step - loss: 0.0346 - accuracy: 0.9905 - val_loss: 0.0364 - val_accuracy: 0.9840\n",
      "Epoch 14/50\n",
      "63/63 [==============================] - 14s 217ms/step - loss: 0.0327 - accuracy: 0.9910 - val_loss: 0.0362 - val_accuracy: 0.9850\n",
      "Epoch 15/50\n",
      "63/63 [==============================] - 14s 219ms/step - loss: 0.0300 - accuracy: 0.9925 - val_loss: 0.0359 - val_accuracy: 0.9850\n",
      "Epoch 16/50\n",
      "63/63 [==============================] - 14s 217ms/step - loss: 0.0330 - accuracy: 0.9905 - val_loss: 0.0348 - val_accuracy: 0.9850\n",
      "Epoch 17/50\n",
      "63/63 [==============================] - 14s 218ms/step - loss: 0.0277 - accuracy: 0.9925 - val_loss: 0.0356 - val_accuracy: 0.9850\n",
      "Epoch 18/50\n",
      "63/63 [==============================] - 14s 216ms/step - loss: 0.0288 - accuracy: 0.9915 - val_loss: 0.0347 - val_accuracy: 0.9840\n",
      "Epoch 19/50\n",
      "63/63 [==============================] - 14s 218ms/step - loss: 0.0303 - accuracy: 0.9910 - val_loss: 0.0347 - val_accuracy: 0.9850\n",
      "Epoch 20/50\n",
      "63/63 [==============================] - 14s 219ms/step - loss: 0.0284 - accuracy: 0.9940 - val_loss: 0.0338 - val_accuracy: 0.9850\n",
      "Epoch 21/50\n",
      "63/63 [==============================] - 14s 218ms/step - loss: 0.0209 - accuracy: 0.9975 - val_loss: 0.0326 - val_accuracy: 0.9850\n",
      "Epoch 22/50\n",
      "63/63 [==============================] - 14s 220ms/step - loss: 0.0240 - accuracy: 0.9925 - val_loss: 0.0326 - val_accuracy: 0.9860\n",
      "Epoch 23/50\n",
      "63/63 [==============================] - 14s 220ms/step - loss: 0.0214 - accuracy: 0.9955 - val_loss: 0.0325 - val_accuracy: 0.9840\n",
      "Epoch 24/50\n",
      "63/63 [==============================] - 14s 229ms/step - loss: 0.0217 - accuracy: 0.9940 - val_loss: 0.0315 - val_accuracy: 0.9850\n",
      "Epoch 25/50\n",
      "63/63 [==============================] - 14s 219ms/step - loss: 0.0207 - accuracy: 0.9960 - val_loss: 0.0329 - val_accuracy: 0.9840\n",
      "Epoch 26/50\n",
      "63/63 [==============================] - 14s 217ms/step - loss: 0.0215 - accuracy: 0.9940 - val_loss: 0.0329 - val_accuracy: 0.9840\n",
      "Epoch 27/50\n",
      "63/63 [==============================] - 14s 218ms/step - loss: 0.0203 - accuracy: 0.9925 - val_loss: 0.0334 - val_accuracy: 0.9840\n",
      "Epoch 28/50\n",
      "63/63 [==============================] - 14s 220ms/step - loss: 0.0222 - accuracy: 0.9945 - val_loss: 0.0333 - val_accuracy: 0.9840\n",
      "Epoch 29/50\n",
      "63/63 [==============================] - 14s 216ms/step - loss: 0.0184 - accuracy: 0.9965 - val_loss: 0.0329 - val_accuracy: 0.9840\n",
      "Epoch 30/50\n",
      "63/63 [==============================] - 14s 220ms/step - loss: 0.0185 - accuracy: 0.9965 - val_loss: 0.0318 - val_accuracy: 0.9830\n",
      "Epoch 31/50\n",
      "63/63 [==============================] - 14s 218ms/step - loss: 0.0148 - accuracy: 0.9975 - val_loss: 0.0321 - val_accuracy: 0.9840\n",
      "Epoch 32/50\n",
      "63/63 [==============================] - 14s 218ms/step - loss: 0.0157 - accuracy: 0.9965 - val_loss: 0.0314 - val_accuracy: 0.9830\n",
      "Epoch 33/50\n",
      "63/63 [==============================] - 14s 218ms/step - loss: 0.0155 - accuracy: 0.9955 - val_loss: 0.0313 - val_accuracy: 0.9850\n",
      "Epoch 34/50\n",
      "63/63 [==============================] - 14s 218ms/step - loss: 0.0201 - accuracy: 0.9950 - val_loss: 0.0312 - val_accuracy: 0.9850\n",
      "Epoch 35/50\n",
      "63/63 [==============================] - 14s 219ms/step - loss: 0.0155 - accuracy: 0.9980 - val_loss: 0.0303 - val_accuracy: 0.9850\n",
      "Epoch 36/50\n",
      "63/63 [==============================] - 14s 218ms/step - loss: 0.0165 - accuracy: 0.9965 - val_loss: 0.0300 - val_accuracy: 0.9840\n",
      "Epoch 37/50\n",
      "63/63 [==============================] - 14s 218ms/step - loss: 0.0168 - accuracy: 0.9945 - val_loss: 0.0310 - val_accuracy: 0.9850\n",
      "Epoch 38/50\n",
      "63/63 [==============================] - 14s 218ms/step - loss: 0.0166 - accuracy: 0.9960 - val_loss: 0.0311 - val_accuracy: 0.9840\n",
      "Epoch 39/50\n",
      "63/63 [==============================] - 14s 217ms/step - loss: 0.0209 - accuracy: 0.9970 - val_loss: 0.0298 - val_accuracy: 0.9870\n",
      "Epoch 40/50\n",
      "63/63 [==============================] - 14s 218ms/step - loss: 0.0155 - accuracy: 0.9955 - val_loss: 0.0301 - val_accuracy: 0.9870\n",
      "Epoch 41/50\n",
      "63/63 [==============================] - 14s 217ms/step - loss: 0.0156 - accuracy: 0.9950 - val_loss: 0.0313 - val_accuracy: 0.9850\n",
      "Epoch 42/50\n",
      "63/63 [==============================] - 14s 218ms/step - loss: 0.0133 - accuracy: 0.9960 - val_loss: 0.0319 - val_accuracy: 0.9850\n",
      "Epoch 43/50\n",
      "63/63 [==============================] - 14s 218ms/step - loss: 0.0143 - accuracy: 0.9965 - val_loss: 0.0297 - val_accuracy: 0.9860\n",
      "Epoch 44/50\n",
      "63/63 [==============================] - 14s 218ms/step - loss: 0.0186 - accuracy: 0.9950 - val_loss: 0.0302 - val_accuracy: 0.9860\n",
      "Epoch 45/50\n",
      "63/63 [==============================] - 14s 217ms/step - loss: 0.0136 - accuracy: 0.9970 - val_loss: 0.0301 - val_accuracy: 0.9870\n",
      "Epoch 46/50\n",
      "63/63 [==============================] - 14s 218ms/step - loss: 0.0126 - accuracy: 0.9975 - val_loss: 0.0304 - val_accuracy: 0.9870\n",
      "Epoch 47/50\n",
      "63/63 [==============================] - 14s 218ms/step - loss: 0.0113 - accuracy: 0.9990 - val_loss: 0.0297 - val_accuracy: 0.9850\n",
      "Epoch 48/50\n",
      "63/63 [==============================] - 14s 217ms/step - loss: 0.0117 - accuracy: 0.9980 - val_loss: 0.0286 - val_accuracy: 0.9860\n",
      "Epoch 49/50\n",
      "63/63 [==============================] - 14s 216ms/step - loss: 0.0126 - accuracy: 0.9970 - val_loss: 0.0301 - val_accuracy: 0.9850\n",
      "Epoch 50/50\n",
      "63/63 [==============================] - 14s 218ms/step - loss: 0.0153 - accuracy: 0.9960 - val_loss: 0.0301 - val_accuracy: 0.9870\n"
     ]
    }
   ],
   "source": [
    "base_model = tf.keras.applications.EfficientNetB0(include_top=False)\n",
    "base_model.trainable = False\n",
    "inputs = Input(shape=(180, 180, 3))\n",
    "# x = layers.Rescaling(1./255)(inputs)\n",
    "x= data_augmentation(inputs)\n",
    "x = base_model(x, training=False)\n",
    "x = layers.GlobalAveragePooling2D()(x)\n",
    "outputs = Dense(1, activation='sigmoid')(x)\n",
    "model_5 = Model(inputs, outputs)\n",
    "\n",
    "model_5.compile(\n",
    "    loss=tf.keras.losses.BinaryCrossentropy(),\n",
    "    metrics=['accuracy'],\n",
    "    optimizer='adam'\n",
    ")\n",
    "\n",
    "callbacks = [tf.keras.callbacks.ModelCheckpoint('cats_vs_dogs_small/model_5_efficientnet_b0',\n",
    "                                                save_best_only=True,\n",
    "                                                monitor='val_loss')]\n",
    "\n",
    "history_model_5 = model_5.fit(\n",
    "    train_dataset,\n",
    "    epochs=50,\n",
    "    validation_data=validation_dataset,\n",
    "    # callbacks=callbacks\n",
    ")"
   ],
   "metadata": {
    "collapsed": false,
    "pycharm": {
     "name": "#%%\n"
    }
   }
  },
  {
   "cell_type": "code",
   "execution_count": null,
   "outputs": [],
   "source": [],
   "metadata": {
    "collapsed": false,
    "pycharm": {
     "name": "#%%\n"
    }
   }
  }
 ],
 "metadata": {
  "kernelspec": {
   "display_name": "Python 3",
   "language": "python",
   "name": "python3"
  },
  "language_info": {
   "codemirror_mode": {
    "name": "ipython",
    "version": 2
   },
   "file_extension": ".py",
   "mimetype": "text/x-python",
   "name": "python",
   "nbconvert_exporter": "python",
   "pygments_lexer": "ipython2",
   "version": "2.7.6"
  }
 },
 "nbformat": 4,
 "nbformat_minor": 0
}