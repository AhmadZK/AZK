{
 "cells": [
  {
   "cell_type": "code",
   "execution_count": 22,
   "outputs": [
    {
     "data": {
      "text/plain": "                                               title  \\\n0  As U.S. budget fight looms, Republicans flip t...   \n1  U.S. military to accept transgender recruits o...   \n2  Senior U.S. Republican senator: 'Let Mr. Muell...   \n3  FBI Russia probe helped by Australian diplomat...   \n4  Trump wants Postal Service to charge 'much mor...   \n\n                                                text       subject  \\\n0  WASHINGTON (Reuters) - The head of a conservat...  politicsNews   \n1  WASHINGTON (Reuters) - Transgender people will...  politicsNews   \n2  WASHINGTON (Reuters) - The special counsel inv...  politicsNews   \n3  WASHINGTON (Reuters) - Trump campaign adviser ...  politicsNews   \n4  SEATTLE/WASHINGTON (Reuters) - President Donal...  politicsNews   \n\n                 date  \n0  December 31, 2017   \n1  December 29, 2017   \n2  December 31, 2017   \n3  December 30, 2017   \n4  December 29, 2017   ",
      "text/html": "<div>\n<style scoped>\n    .dataframe tbody tr th:only-of-type {\n        vertical-align: middle;\n    }\n\n    .dataframe tbody tr th {\n        vertical-align: top;\n    }\n\n    .dataframe thead th {\n        text-align: right;\n    }\n</style>\n<table border=\"1\" class=\"dataframe\">\n  <thead>\n    <tr style=\"text-align: right;\">\n      <th></th>\n      <th>title</th>\n      <th>text</th>\n      <th>subject</th>\n      <th>date</th>\n    </tr>\n  </thead>\n  <tbody>\n    <tr>\n      <th>0</th>\n      <td>As U.S. budget fight looms, Republicans flip t...</td>\n      <td>WASHINGTON (Reuters) - The head of a conservat...</td>\n      <td>politicsNews</td>\n      <td>December 31, 2017</td>\n    </tr>\n    <tr>\n      <th>1</th>\n      <td>U.S. military to accept transgender recruits o...</td>\n      <td>WASHINGTON (Reuters) - Transgender people will...</td>\n      <td>politicsNews</td>\n      <td>December 29, 2017</td>\n    </tr>\n    <tr>\n      <th>2</th>\n      <td>Senior U.S. Republican senator: 'Let Mr. Muell...</td>\n      <td>WASHINGTON (Reuters) - The special counsel inv...</td>\n      <td>politicsNews</td>\n      <td>December 31, 2017</td>\n    </tr>\n    <tr>\n      <th>3</th>\n      <td>FBI Russia probe helped by Australian diplomat...</td>\n      <td>WASHINGTON (Reuters) - Trump campaign adviser ...</td>\n      <td>politicsNews</td>\n      <td>December 30, 2017</td>\n    </tr>\n    <tr>\n      <th>4</th>\n      <td>Trump wants Postal Service to charge 'much mor...</td>\n      <td>SEATTLE/WASHINGTON (Reuters) - President Donal...</td>\n      <td>politicsNews</td>\n      <td>December 29, 2017</td>\n    </tr>\n  </tbody>\n</table>\n</div>"
     },
     "execution_count": 22,
     "metadata": {},
     "output_type": "execute_result"
    }
   ],
   "source": [
    "import pandas as pd\n",
    "file = pd.read_csv('True-news.csv')\n",
    "file[:5]"
   ],
   "metadata": {
    "collapsed": false,
    "pycharm": {
     "name": "#%%\n"
    }
   }
  },
  {
   "cell_type": "code",
   "execution_count": 23,
   "outputs": [
    {
     "data": {
      "text/plain": "2"
     },
     "execution_count": 23,
     "metadata": {},
     "output_type": "execute_result"
    }
   ],
   "source": [
    "file['subject'].nunique()"
   ],
   "metadata": {
    "collapsed": false,
    "pycharm": {
     "name": "#%%\n"
    }
   }
  },
  {
   "cell_type": "code",
   "execution_count": 24,
   "outputs": [
    {
     "data": {
      "text/plain": "politicsNews    11272\nworldnews       10145\nName: subject, dtype: int64"
     },
     "execution_count": 24,
     "metadata": {},
     "output_type": "execute_result"
    }
   ],
   "source": [
    "file['subject'].value_counts()"
   ],
   "metadata": {
    "collapsed": false,
    "pycharm": {
     "name": "#%%\n"
    }
   }
  },
  {
   "cell_type": "code",
   "execution_count": 28,
   "outputs": [
    {
     "data": {
      "text/plain": "                                                text       subject\n0  WASHINGTON (Reuters) - The head of a conservat...  politicsNews\n1  WASHINGTON (Reuters) - Transgender people will...  politicsNews\n2  WASHINGTON (Reuters) - The special counsel inv...  politicsNews\n3  WASHINGTON (Reuters) - Trump campaign adviser ...  politicsNews\n4  SEATTLE/WASHINGTON (Reuters) - President Donal...  politicsNews",
      "text/html": "<div>\n<style scoped>\n    .dataframe tbody tr th:only-of-type {\n        vertical-align: middle;\n    }\n\n    .dataframe tbody tr th {\n        vertical-align: top;\n    }\n\n    .dataframe thead th {\n        text-align: right;\n    }\n</style>\n<table border=\"1\" class=\"dataframe\">\n  <thead>\n    <tr style=\"text-align: right;\">\n      <th></th>\n      <th>text</th>\n      <th>subject</th>\n    </tr>\n  </thead>\n  <tbody>\n    <tr>\n      <th>0</th>\n      <td>WASHINGTON (Reuters) - The head of a conservat...</td>\n      <td>politicsNews</td>\n    </tr>\n    <tr>\n      <th>1</th>\n      <td>WASHINGTON (Reuters) - Transgender people will...</td>\n      <td>politicsNews</td>\n    </tr>\n    <tr>\n      <th>2</th>\n      <td>WASHINGTON (Reuters) - The special counsel inv...</td>\n      <td>politicsNews</td>\n    </tr>\n    <tr>\n      <th>3</th>\n      <td>WASHINGTON (Reuters) - Trump campaign adviser ...</td>\n      <td>politicsNews</td>\n    </tr>\n    <tr>\n      <th>4</th>\n      <td>SEATTLE/WASHINGTON (Reuters) - President Donal...</td>\n      <td>politicsNews</td>\n    </tr>\n  </tbody>\n</table>\n</div>"
     },
     "execution_count": 28,
     "metadata": {},
     "output_type": "execute_result"
    }
   ],
   "source": [
    "dataset = file[['text', 'subject']]\n",
    "dataset[:5]"
   ],
   "metadata": {
    "collapsed": false,
    "pycharm": {
     "name": "#%%\n"
    }
   }
  },
  {
   "cell_type": "code",
   "execution_count": 30,
   "outputs": [
    {
     "data": {
      "text/plain": "array(['politicsNews', 'worldnews'], dtype=object)"
     },
     "execution_count": 30,
     "metadata": {},
     "output_type": "execute_result"
    }
   ],
   "source": [
    "from sklearn.preprocessing import LabelEncoder\n",
    "encoder = LabelEncoder()\n",
    "encoder.fit(dataset['subject'])\n",
    "encoder.classes_"
   ],
   "metadata": {
    "collapsed": false,
    "pycharm": {
     "name": "#%%\n"
    }
   }
  },
  {
   "cell_type": "code",
   "execution_count": 31,
   "outputs": [
    {
     "name": "stderr",
     "output_type": "stream",
     "text": [
      "C:\\Users\\AZK\\AppData\\Local\\Temp\\ipykernel_16204\\1810508170.py:1: SettingWithCopyWarning: \n",
      "A value is trying to be set on a copy of a slice from a DataFrame.\n",
      "Try using .loc[row_indexer,col_indexer] = value instead\n",
      "\n",
      "See the caveats in the documentation: https://pandas.pydata.org/pandas-docs/stable/user_guide/indexing.html#returning-a-view-versus-a-copy\n",
      "  dataset['label'] = encoder.transform(dataset['subject'])\n"
     ]
    },
    {
     "data": {
      "text/plain": "                                                text       subject  label\n0  WASHINGTON (Reuters) - The head of a conservat...  politicsNews      0\n1  WASHINGTON (Reuters) - Transgender people will...  politicsNews      0\n2  WASHINGTON (Reuters) - The special counsel inv...  politicsNews      0\n3  WASHINGTON (Reuters) - Trump campaign adviser ...  politicsNews      0\n4  SEATTLE/WASHINGTON (Reuters) - President Donal...  politicsNews      0",
      "text/html": "<div>\n<style scoped>\n    .dataframe tbody tr th:only-of-type {\n        vertical-align: middle;\n    }\n\n    .dataframe tbody tr th {\n        vertical-align: top;\n    }\n\n    .dataframe thead th {\n        text-align: right;\n    }\n</style>\n<table border=\"1\" class=\"dataframe\">\n  <thead>\n    <tr style=\"text-align: right;\">\n      <th></th>\n      <th>text</th>\n      <th>subject</th>\n      <th>label</th>\n    </tr>\n  </thead>\n  <tbody>\n    <tr>\n      <th>0</th>\n      <td>WASHINGTON (Reuters) - The head of a conservat...</td>\n      <td>politicsNews</td>\n      <td>0</td>\n    </tr>\n    <tr>\n      <th>1</th>\n      <td>WASHINGTON (Reuters) - Transgender people will...</td>\n      <td>politicsNews</td>\n      <td>0</td>\n    </tr>\n    <tr>\n      <th>2</th>\n      <td>WASHINGTON (Reuters) - The special counsel inv...</td>\n      <td>politicsNews</td>\n      <td>0</td>\n    </tr>\n    <tr>\n      <th>3</th>\n      <td>WASHINGTON (Reuters) - Trump campaign adviser ...</td>\n      <td>politicsNews</td>\n      <td>0</td>\n    </tr>\n    <tr>\n      <th>4</th>\n      <td>SEATTLE/WASHINGTON (Reuters) - President Donal...</td>\n      <td>politicsNews</td>\n      <td>0</td>\n    </tr>\n  </tbody>\n</table>\n</div>"
     },
     "execution_count": 31,
     "metadata": {},
     "output_type": "execute_result"
    }
   ],
   "source": [
    "dataset['label'] = encoder.transform(dataset['subject'])\n",
    "dataset[:5]"
   ],
   "metadata": {
    "collapsed": false,
    "pycharm": {
     "name": "#%%\n"
    }
   }
  },
  {
   "cell_type": "code",
   "execution_count": 32,
   "outputs": [
    {
     "data": {
      "text/plain": "array(['politicsNews', 'worldnews'], dtype=object)"
     },
     "execution_count": 32,
     "metadata": {},
     "output_type": "execute_result"
    }
   ],
   "source": [
    "label_names = encoder.classes_\n",
    "label_names"
   ],
   "metadata": {
    "collapsed": false,
    "pycharm": {
     "name": "#%%\n"
    }
   }
  },
  {
   "cell_type": "code",
   "execution_count": 34,
   "outputs": [],
   "source": [
    "split = int(0.8 * len(dataset))\n",
    "train_dataset = dataset[:split]\n",
    "test_dataset = dataset[split:]"
   ],
   "metadata": {
    "collapsed": false,
    "pycharm": {
     "name": "#%%\n"
    }
   }
  },
  {
   "cell_type": "code",
   "execution_count": 35,
   "outputs": [
    {
     "data": {
      "text/plain": "(17133, 4284)"
     },
     "execution_count": 35,
     "metadata": {},
     "output_type": "execute_result"
    }
   ],
   "source": [
    "len(train_dataset), len(test_dataset)"
   ],
   "metadata": {
    "collapsed": false,
    "pycharm": {
     "name": "#%%\n"
    }
   }
  },
  {
   "cell_type": "code",
   "execution_count": 53,
   "outputs": [
    {
     "data": {
      "text/plain": "(17133, 17133, 4284, 4284)"
     },
     "execution_count": 53,
     "metadata": {},
     "output_type": "execute_result"
    }
   ],
   "source": [
    "x_train = train_dataset['text'].to_numpy()\n",
    "y_train = train_dataset['label'].to_numpy()\n",
    "x_test = test_dataset['text'].to_numpy()\n",
    "y_test = test_dataset['label'].to_numpy()\n",
    "len(x_train), len(y_train), len(x_test), len(y_test)"
   ],
   "metadata": {
    "collapsed": false,
    "pycharm": {
     "name": "#%%\n"
    }
   }
  },
  {
   "cell_type": "code",
   "execution_count": 64,
   "outputs": [],
   "source": [
    "from keras.layers import TextVectorization, Embedding\n",
    "text_vectorization = TextVectorization(max_tokens=20000, output_mode='int', output_sequence_length=128)\n",
    "text_vectorization.adapt(x_train)\n",
    "embedding = Embedding(input_dim=20000, output_dim=128, input_length=128)"
   ],
   "metadata": {
    "collapsed": false,
    "pycharm": {
     "name": "#%%\n"
    }
   }
  },
  {
   "cell_type": "code",
   "execution_count": 57,
   "outputs": [
    {
     "name": "stdout",
     "output_type": "stream",
     "text": [
      "Epoch 1/10\n",
      "535/536 [============================>.] - ETA: 0s - loss: 11.3825 - accuracy: 0.6682INFO:tensorflow:Assets written to: news models\\model_1_lstm\\assets\n",
      "536/536 [==============================] - 21s 37ms/step - loss: 11.3741 - accuracy: 0.6682 - val_loss: 0.8925 - val_accuracy: 0.2178\n",
      "Epoch 2/10\n",
      "536/536 [==============================] - 18s 33ms/step - loss: 135561.9375 - accuracy: 0.8643 - val_loss: 467.7920 - val_accuracy: 0.9435\n",
      "Epoch 3/10\n",
      "536/536 [==============================] - 18s 33ms/step - loss: 47.9874 - accuracy: 0.8860 - val_loss: 47.6820 - val_accuracy: 0.9468\n",
      "Epoch 4/10\n",
      "536/536 [==============================] - 18s 33ms/step - loss: 0.5395 - accuracy: 0.9136 - val_loss: 117.7237 - val_accuracy: 0.9456\n",
      "Epoch 5/10\n",
      "536/536 [==============================] - 18s 33ms/step - loss: 0.5279 - accuracy: 0.9231 - val_loss: 107.0030 - val_accuracy: 0.9526\n",
      "Epoch 6/10\n",
      "536/536 [==============================] - 18s 33ms/step - loss: 0.2907 - accuracy: 0.9320 - val_loss: 144.9001 - val_accuracy: 0.9512\n",
      "Epoch 7/10\n",
      "536/536 [==============================] - 18s 33ms/step - loss: 600.7690 - accuracy: 0.9399 - val_loss: 82.7085 - val_accuracy: 0.9482\n",
      "Epoch 8/10\n",
      "536/536 [==============================] - 18s 33ms/step - loss: 0.7300 - accuracy: 0.9417 - val_loss: 65.4239 - val_accuracy: 0.9484\n",
      "Epoch 9/10\n",
      "536/536 [==============================] - 18s 34ms/step - loss: 1716.3046 - accuracy: 0.9467 - val_loss: 22.5503 - val_accuracy: 0.9125\n",
      "Epoch 10/10\n",
      "536/536 [==============================] - 18s 33ms/step - loss: 0.7145 - accuracy: 0.9623 - val_loss: 15.5498 - val_accuracy: 0.9185\n"
     ]
    }
   ],
   "source": [
    "import tensorflow as tf\n",
    "from keras import layers\n",
    "\n",
    "inputs = layers.Input(shape=(1,), dtype=tf.string)\n",
    "text_vectorization = text_vectorization(inputs)\n",
    "embedding = embedding(text_vectorization)\n",
    "x = layers.LSTM(16, activation='relu')(embedding)\n",
    "outputs = layers.Dense(1, activation='sigmoid')(x)\n",
    "model_1 = tf.keras.models.Model(inputs, outputs)\n",
    "\n",
    "callbacks = [tf.keras.callbacks.ModelCheckpoint('news models/model_1_lstm', save_best_only=True)]\n",
    "\n",
    "\n",
    "model_1.compile(\n",
    "    loss=tf.keras.losses.BinaryCrossentropy(),\n",
    "    optimizer=tf.keras.optimizers.legacy.Adam(),\n",
    "    metrics=['accuracy']\n",
    ")\n",
    "\n",
    "history_model_1 = model_1.fit(\n",
    "    x=x_train,\n",
    "    y=y_train,\n",
    "    epochs=10,\n",
    "    validation_data=(x_test, y_test),\n",
    "    callbacks=callbacks\n",
    ")"
   ],
   "metadata": {
    "collapsed": false,
    "pycharm": {
     "name": "#%%\n"
    }
   }
  },
  {
   "cell_type": "code",
   "execution_count": 59,
   "outputs": [
    {
     "name": "stdout",
     "output_type": "stream",
     "text": [
      "134/134 [==============================] - 1s 9ms/step - loss: 15.5498 - accuracy: 0.9185\n"
     ]
    },
    {
     "data": {
      "text/plain": "[15.549821853637695, 0.9185341000556946]"
     },
     "execution_count": 59,
     "metadata": {},
     "output_type": "execute_result"
    }
   ],
   "source": [
    "model_1.evaluate(x_test, y_test)"
   ],
   "metadata": {
    "collapsed": false,
    "pycharm": {
     "name": "#%%\n"
    }
   }
  },
  {
   "cell_type": "code",
   "execution_count": 62,
   "outputs": [
    {
     "name": "stdout",
     "output_type": "stream",
     "text": [
      "134/134 [==============================] - 1s 9ms/step - loss: 0.8925 - accuracy: 0.2178\n"
     ]
    },
    {
     "data": {
      "text/plain": "[0.8925114274024963, 0.21778711676597595]"
     },
     "execution_count": 62,
     "metadata": {},
     "output_type": "execute_result"
    }
   ],
   "source": [
    "model_1 = tf.keras.models.load_model('news models/model_1_lstm')\n",
    "model_1.evaluate(x_test, y_test)"
   ],
   "metadata": {
    "collapsed": false,
    "pycharm": {
     "name": "#%%\n"
    }
   }
  },
  {
   "cell_type": "code",
   "execution_count": 65,
   "outputs": [
    {
     "name": "stdout",
     "output_type": "stream",
     "text": [
      "Epoch 1/10\n",
      "536/536 [==============================] - ETA: 0s - loss: 145.5624 - accuracy: 0.6845"
     ]
    },
    {
     "name": "stderr",
     "output_type": "stream",
     "text": [
      "WARNING:absl:Found untraced functions such as _update_step_xla while saving (showing 1 of 1). These functions will not be directly callable after loading.\n"
     ]
    },
    {
     "name": "stdout",
     "output_type": "stream",
     "text": [
      "INFO:tensorflow:Assets written to: news models\\model_2_lstm_dropout\\assets\n"
     ]
    },
    {
     "name": "stderr",
     "output_type": "stream",
     "text": [
      "INFO:tensorflow:Assets written to: news models\\model_2_lstm_dropout\\assets\n"
     ]
    },
    {
     "name": "stdout",
     "output_type": "stream",
     "text": [
      "536/536 [==============================] - 49s 86ms/step - loss: 145.5624 - accuracy: 0.6845 - val_loss: 65.3809 - val_accuracy: 0.0219\n",
      "Epoch 2/10\n",
      "536/536 [==============================] - ETA: 0s - loss: 2.5574 - accuracy: 0.6922"
     ]
    },
    {
     "name": "stderr",
     "output_type": "stream",
     "text": [
      "WARNING:absl:Found untraced functions such as _update_step_xla while saving (showing 1 of 1). These functions will not be directly callable after loading.\n"
     ]
    },
    {
     "name": "stdout",
     "output_type": "stream",
     "text": [
      "INFO:tensorflow:Assets written to: news models\\model_2_lstm_dropout\\assets\n"
     ]
    },
    {
     "name": "stderr",
     "output_type": "stream",
     "text": [
      "INFO:tensorflow:Assets written to: news models\\model_2_lstm_dropout\\assets\n"
     ]
    },
    {
     "name": "stdout",
     "output_type": "stream",
     "text": [
      "536/536 [==============================] - 45s 84ms/step - loss: 2.5574 - accuracy: 0.6922 - val_loss: 8.9766 - val_accuracy: 0.1900\n",
      "Epoch 3/10\n",
      "536/536 [==============================] - 42s 78ms/step - loss: 0.6440 - accuracy: 0.7402 - val_loss: 21.8462 - val_accuracy: 0.5962\n",
      "Epoch 4/10\n",
      "536/536 [==============================] - 41s 77ms/step - loss: 0.5286 - accuracy: 0.7609 - val_loss: 40.3648 - val_accuracy: 0.6870\n",
      "Epoch 5/10\n",
      "536/536 [==============================] - 41s 77ms/step - loss: 0.5427 - accuracy: 0.7904 - val_loss: 36.1171 - val_accuracy: 0.7799\n",
      "Epoch 6/10\n",
      "536/536 [==============================] - 41s 77ms/step - loss: 1.4611 - accuracy: 0.8015 - val_loss: 24.0493 - val_accuracy: 0.8198\n",
      "Epoch 7/10\n",
      "536/536 [==============================] - 41s 77ms/step - loss: 0.7253 - accuracy: 0.8173 - val_loss: 17.0796 - val_accuracy: 0.8214\n",
      "Epoch 8/10\n",
      "536/536 [==============================] - ETA: 0s - loss: 0.4432 - accuracy: 0.8339"
     ]
    },
    {
     "name": "stderr",
     "output_type": "stream",
     "text": [
      "WARNING:absl:Found untraced functions such as _update_step_xla while saving (showing 1 of 1). These functions will not be directly callable after loading.\n"
     ]
    },
    {
     "name": "stdout",
     "output_type": "stream",
     "text": [
      "INFO:tensorflow:Assets written to: news models\\model_2_lstm_dropout\\assets\n"
     ]
    },
    {
     "name": "stderr",
     "output_type": "stream",
     "text": [
      "INFO:tensorflow:Assets written to: news models\\model_2_lstm_dropout\\assets\n"
     ]
    },
    {
     "name": "stdout",
     "output_type": "stream",
     "text": [
      "536/536 [==============================] - 44s 83ms/step - loss: 0.4432 - accuracy: 0.8339 - val_loss: 1.0627 - val_accuracy: 0.8604\n",
      "Epoch 9/10\n",
      "536/536 [==============================] - ETA: 0s - loss: 0.3848 - accuracy: 0.8161"
     ]
    },
    {
     "name": "stderr",
     "output_type": "stream",
     "text": [
      "WARNING:absl:Found untraced functions such as _update_step_xla while saving (showing 1 of 1). These functions will not be directly callable after loading.\n"
     ]
    },
    {
     "name": "stdout",
     "output_type": "stream",
     "text": [
      "INFO:tensorflow:Assets written to: news models\\model_2_lstm_dropout\\assets\n"
     ]
    },
    {
     "name": "stderr",
     "output_type": "stream",
     "text": [
      "INFO:tensorflow:Assets written to: news models\\model_2_lstm_dropout\\assets\n"
     ]
    },
    {
     "name": "stdout",
     "output_type": "stream",
     "text": [
      "536/536 [==============================] - 45s 84ms/step - loss: 0.3848 - accuracy: 0.8161 - val_loss: 1.0116 - val_accuracy: 0.8109\n",
      "Epoch 10/10\n",
      "536/536 [==============================] - ETA: 0s - loss: 0.3596 - accuracy: 0.8359"
     ]
    },
    {
     "name": "stderr",
     "output_type": "stream",
     "text": [
      "WARNING:absl:Found untraced functions such as _update_step_xla while saving (showing 1 of 1). These functions will not be directly callable after loading.\n"
     ]
    },
    {
     "name": "stdout",
     "output_type": "stream",
     "text": [
      "INFO:tensorflow:Assets written to: news models\\model_2_lstm_dropout\\assets\n"
     ]
    },
    {
     "name": "stderr",
     "output_type": "stream",
     "text": [
      "INFO:tensorflow:Assets written to: news models\\model_2_lstm_dropout\\assets\n"
     ]
    },
    {
     "name": "stdout",
     "output_type": "stream",
     "text": [
      "536/536 [==============================] - 48s 90ms/step - loss: 0.3596 - accuracy: 0.8359 - val_loss: 0.9283 - val_accuracy: 0.8459\n"
     ]
    }
   ],
   "source": [
    "inputs = layers.Input(shape=(1,), dtype=tf.string)\n",
    "text_vectorization = text_vectorization(inputs)\n",
    "embedding = embedding(text_vectorization)\n",
    "x = layers.LSTM(16, return_sequences=True, activation='relu', recurrent_dropout=0.25)(embedding)\n",
    "x = layers.LSTM(16, activation='relu', recurrent_dropout=0.25)(x)\n",
    "x = layers.Dropout(0.5)(x)\n",
    "outputs = layers.Dense(1, activation='sigmoid')(x)\n",
    "model_2 = tf.keras.models.Model(inputs, outputs)\n",
    "\n",
    "callbacks = [tf.keras.callbacks.ModelCheckpoint('news models/model_2_lstm_dropout', save_best_only=True)]\n",
    "\n",
    "model_2.compile(\n",
    "    loss='binary_crossentropy',\n",
    "    optimizer='adam',\n",
    "    metrics=['accuracy']\n",
    ")\n",
    "\n",
    "history_model_2 = model_2.fit(\n",
    "    x_train,\n",
    "    y_train,\n",
    "    epochs=10,\n",
    "    validation_data=(x_test, y_test),\n",
    "    callbacks=callbacks\n",
    ")"
   ],
   "metadata": {
    "collapsed": false,
    "pycharm": {
     "name": "#%%\n"
    }
   }
  },
  {
   "cell_type": "code",
   "execution_count": 66,
   "outputs": [
    {
     "name": "stdout",
     "output_type": "stream",
     "text": [
      "134/134 [==============================] - 2s 18ms/step - loss: 0.9283 - accuracy: 0.8459\n"
     ]
    },
    {
     "data": {
      "text/plain": "[0.9282684326171875, 0.8459383845329285]"
     },
     "execution_count": 66,
     "metadata": {},
     "output_type": "execute_result"
    }
   ],
   "source": [
    "model_2.evaluate(x_test, y_test)"
   ],
   "metadata": {
    "collapsed": false,
    "pycharm": {
     "name": "#%%\n"
    }
   }
  },
  {
   "cell_type": "code",
   "execution_count": null,
   "outputs": [],
   "source": [
    "model_2_loaded = tf.keras.models.load_model('news models/model_2_lstm_dropout')\n",
    "model_2_loaded.evaluate(x_test, y_test)"
   ],
   "metadata": {
    "collapsed": false,
    "pycharm": {
     "name": "#%%\n"
    }
   }
  }
 ],
 "metadata": {
  "kernelspec": {
   "display_name": "Python 3",
   "language": "python",
   "name": "python3"
  },
  "language_info": {
   "codemirror_mode": {
    "name": "ipython",
    "version": 2
   },
   "file_extension": ".py",
   "mimetype": "text/x-python",
   "name": "python",
   "nbconvert_exporter": "python",
   "pygments_lexer": "ipython2",
   "version": "2.7.6"
  }
 },
 "nbformat": 4,
 "nbformat_minor": 0
}